{
 "cells": [
  {
   "cell_type": "code",
   "execution_count": 1,
   "metadata": {},
   "outputs": [],
   "source": [
    "using CSV"
   ]
  },
  {
   "cell_type": "code",
   "execution_count": 2,
   "metadata": {},
   "outputs": [
    {
     "data": {
      "text/html": [
       "<table class=\"data-frame\"><thead><tr><th></th><th>age</th><th>job</th><th>marital</th><th>education</th><th>default</th><th>housing</th><th>loan</th></tr><tr><th></th><th>Int64</th><th>String</th><th>String</th><th>String</th><th>String</th><th>String</th><th>String</th></tr></thead><tbody><p>41,188 rows × 21 columns (omitted printing of 14 columns)</p><tr><th>1</th><td>56</td><td>housemaid</td><td>married</td><td>basic.4y</td><td>no</td><td>no</td><td>no</td></tr><tr><th>2</th><td>57</td><td>services</td><td>married</td><td>high.school</td><td>unknown</td><td>no</td><td>no</td></tr><tr><th>3</th><td>37</td><td>services</td><td>married</td><td>high.school</td><td>no</td><td>yes</td><td>no</td></tr><tr><th>4</th><td>40</td><td>admin.</td><td>married</td><td>basic.6y</td><td>no</td><td>no</td><td>no</td></tr><tr><th>5</th><td>56</td><td>services</td><td>married</td><td>high.school</td><td>no</td><td>no</td><td>yes</td></tr><tr><th>6</th><td>45</td><td>services</td><td>married</td><td>basic.9y</td><td>unknown</td><td>no</td><td>no</td></tr><tr><th>7</th><td>59</td><td>admin.</td><td>married</td><td>professional.course</td><td>no</td><td>no</td><td>no</td></tr><tr><th>8</th><td>41</td><td>blue-collar</td><td>married</td><td>unknown</td><td>unknown</td><td>no</td><td>no</td></tr><tr><th>9</th><td>24</td><td>technician</td><td>single</td><td>professional.course</td><td>no</td><td>yes</td><td>no</td></tr><tr><th>10</th><td>25</td><td>services</td><td>single</td><td>high.school</td><td>no</td><td>yes</td><td>no</td></tr><tr><th>11</th><td>41</td><td>blue-collar</td><td>married</td><td>unknown</td><td>unknown</td><td>no</td><td>no</td></tr><tr><th>12</th><td>25</td><td>services</td><td>single</td><td>high.school</td><td>no</td><td>yes</td><td>no</td></tr><tr><th>13</th><td>29</td><td>blue-collar</td><td>single</td><td>high.school</td><td>no</td><td>no</td><td>yes</td></tr><tr><th>14</th><td>57</td><td>housemaid</td><td>divorced</td><td>basic.4y</td><td>no</td><td>yes</td><td>no</td></tr><tr><th>15</th><td>35</td><td>blue-collar</td><td>married</td><td>basic.6y</td><td>no</td><td>yes</td><td>no</td></tr><tr><th>16</th><td>54</td><td>retired</td><td>married</td><td>basic.9y</td><td>unknown</td><td>yes</td><td>yes</td></tr><tr><th>17</th><td>35</td><td>blue-collar</td><td>married</td><td>basic.6y</td><td>no</td><td>yes</td><td>no</td></tr><tr><th>18</th><td>46</td><td>blue-collar</td><td>married</td><td>basic.6y</td><td>unknown</td><td>yes</td><td>yes</td></tr><tr><th>19</th><td>50</td><td>blue-collar</td><td>married</td><td>basic.9y</td><td>no</td><td>yes</td><td>yes</td></tr><tr><th>20</th><td>39</td><td>management</td><td>single</td><td>basic.9y</td><td>unknown</td><td>no</td><td>no</td></tr><tr><th>21</th><td>30</td><td>unemployed</td><td>married</td><td>high.school</td><td>no</td><td>no</td><td>no</td></tr><tr><th>22</th><td>55</td><td>blue-collar</td><td>married</td><td>basic.4y</td><td>unknown</td><td>yes</td><td>no</td></tr><tr><th>23</th><td>55</td><td>retired</td><td>single</td><td>high.school</td><td>no</td><td>yes</td><td>no</td></tr><tr><th>24</th><td>41</td><td>technician</td><td>single</td><td>high.school</td><td>no</td><td>yes</td><td>no</td></tr><tr><th>25</th><td>37</td><td>admin.</td><td>married</td><td>high.school</td><td>no</td><td>yes</td><td>no</td></tr><tr><th>26</th><td>35</td><td>technician</td><td>married</td><td>university.degree</td><td>no</td><td>no</td><td>yes</td></tr><tr><th>27</th><td>59</td><td>technician</td><td>married</td><td>unknown</td><td>no</td><td>yes</td><td>no</td></tr><tr><th>28</th><td>39</td><td>self-employed</td><td>married</td><td>basic.9y</td><td>unknown</td><td>no</td><td>no</td></tr><tr><th>29</th><td>54</td><td>technician</td><td>single</td><td>university.degree</td><td>unknown</td><td>no</td><td>no</td></tr><tr><th>30</th><td>55</td><td>unknown</td><td>married</td><td>university.degree</td><td>unknown</td><td>unknown</td><td>unknown</td></tr><tr><th>&vellip;</th><td>&vellip;</td><td>&vellip;</td><td>&vellip;</td><td>&vellip;</td><td>&vellip;</td><td>&vellip;</td><td>&vellip;</td></tr></tbody></table>"
      ],
      "text/latex": [
       "\\begin{tabular}{r|cccccccc}\n",
       "\t& age & job & marital & education & default & housing & loan & \\\\\n",
       "\t\\hline\n",
       "\t& Int64 & String & String & String & String & String & String & \\\\\n",
       "\t\\hline\n",
       "\t1 & 56 & housemaid & married & basic.4y & no & no & no & $\\dots$ \\\\\n",
       "\t2 & 57 & services & married & high.school & unknown & no & no & $\\dots$ \\\\\n",
       "\t3 & 37 & services & married & high.school & no & yes & no & $\\dots$ \\\\\n",
       "\t4 & 40 & admin. & married & basic.6y & no & no & no & $\\dots$ \\\\\n",
       "\t5 & 56 & services & married & high.school & no & no & yes & $\\dots$ \\\\\n",
       "\t6 & 45 & services & married & basic.9y & unknown & no & no & $\\dots$ \\\\\n",
       "\t7 & 59 & admin. & married & professional.course & no & no & no & $\\dots$ \\\\\n",
       "\t8 & 41 & blue-collar & married & unknown & unknown & no & no & $\\dots$ \\\\\n",
       "\t9 & 24 & technician & single & professional.course & no & yes & no & $\\dots$ \\\\\n",
       "\t10 & 25 & services & single & high.school & no & yes & no & $\\dots$ \\\\\n",
       "\t11 & 41 & blue-collar & married & unknown & unknown & no & no & $\\dots$ \\\\\n",
       "\t12 & 25 & services & single & high.school & no & yes & no & $\\dots$ \\\\\n",
       "\t13 & 29 & blue-collar & single & high.school & no & no & yes & $\\dots$ \\\\\n",
       "\t14 & 57 & housemaid & divorced & basic.4y & no & yes & no & $\\dots$ \\\\\n",
       "\t15 & 35 & blue-collar & married & basic.6y & no & yes & no & $\\dots$ \\\\\n",
       "\t16 & 54 & retired & married & basic.9y & unknown & yes & yes & $\\dots$ \\\\\n",
       "\t17 & 35 & blue-collar & married & basic.6y & no & yes & no & $\\dots$ \\\\\n",
       "\t18 & 46 & blue-collar & married & basic.6y & unknown & yes & yes & $\\dots$ \\\\\n",
       "\t19 & 50 & blue-collar & married & basic.9y & no & yes & yes & $\\dots$ \\\\\n",
       "\t20 & 39 & management & single & basic.9y & unknown & no & no & $\\dots$ \\\\\n",
       "\t21 & 30 & unemployed & married & high.school & no & no & no & $\\dots$ \\\\\n",
       "\t22 & 55 & blue-collar & married & basic.4y & unknown & yes & no & $\\dots$ \\\\\n",
       "\t23 & 55 & retired & single & high.school & no & yes & no & $\\dots$ \\\\\n",
       "\t24 & 41 & technician & single & high.school & no & yes & no & $\\dots$ \\\\\n",
       "\t25 & 37 & admin. & married & high.school & no & yes & no & $\\dots$ \\\\\n",
       "\t26 & 35 & technician & married & university.degree & no & no & yes & $\\dots$ \\\\\n",
       "\t27 & 59 & technician & married & unknown & no & yes & no & $\\dots$ \\\\\n",
       "\t28 & 39 & self-employed & married & basic.9y & unknown & no & no & $\\dots$ \\\\\n",
       "\t29 & 54 & technician & single & university.degree & unknown & no & no & $\\dots$ \\\\\n",
       "\t30 & 55 & unknown & married & university.degree & unknown & unknown & unknown & $\\dots$ \\\\\n",
       "\t$\\dots$ & $\\dots$ & $\\dots$ & $\\dots$ & $\\dots$ & $\\dots$ & $\\dots$ & $\\dots$ &  \\\\\n",
       "\\end{tabular}\n"
      ],
      "text/plain": [
       "41188×21 DataFrames.DataFrame. Omitted printing of 16 columns\n",
       "│ Row   │ age   │ job         │ marital  │ education           │ default │\n",
       "│       │ \u001b[90mInt64\u001b[39m │ \u001b[90mString\u001b[39m      │ \u001b[90mString\u001b[39m   │ \u001b[90mString\u001b[39m              │ \u001b[90mString\u001b[39m  │\n",
       "├───────┼───────┼─────────────┼──────────┼─────────────────────┼─────────┤\n",
       "│ 1     │ 56    │ housemaid   │ married  │ basic.4y            │ no      │\n",
       "│ 2     │ 57    │ services    │ married  │ high.school         │ unknown │\n",
       "│ 3     │ 37    │ services    │ married  │ high.school         │ no      │\n",
       "│ 4     │ 40    │ admin.      │ married  │ basic.6y            │ no      │\n",
       "│ 5     │ 56    │ services    │ married  │ high.school         │ no      │\n",
       "│ 6     │ 45    │ services    │ married  │ basic.9y            │ unknown │\n",
       "│ 7     │ 59    │ admin.      │ married  │ professional.course │ no      │\n",
       "│ 8     │ 41    │ blue-collar │ married  │ unknown             │ unknown │\n",
       "│ 9     │ 24    │ technician  │ single   │ professional.course │ no      │\n",
       "│ 10    │ 25    │ services    │ single   │ high.school         │ no      │\n",
       "⋮\n",
       "│ 41178 │ 57    │ retired     │ married  │ professional.course │ no      │\n",
       "│ 41179 │ 62    │ retired     │ married  │ university.degree   │ no      │\n",
       "│ 41180 │ 64    │ retired     │ divorced │ professional.course │ no      │\n",
       "│ 41181 │ 36    │ admin.      │ married  │ university.degree   │ no      │\n",
       "│ 41182 │ 37    │ admin.      │ married  │ university.degree   │ no      │\n",
       "│ 41183 │ 29    │ unemployed  │ single   │ basic.4y            │ no      │\n",
       "│ 41184 │ 73    │ retired     │ married  │ professional.course │ no      │\n",
       "│ 41185 │ 46    │ blue-collar │ married  │ professional.course │ no      │\n",
       "│ 41186 │ 56    │ retired     │ married  │ university.degree   │ no      │\n",
       "│ 41187 │ 44    │ technician  │ married  │ professional.course │ no      │\n",
       "│ 41188 │ 74    │ retired     │ married  │ professional.course │ no      │"
      ]
     },
     "execution_count": 2,
     "metadata": {},
     "output_type": "execute_result"
    }
   ],
   "source": [
    "#LOADING THE (original) CSV DATA FILE\n",
    "\n",
    "\n",
    "#By default only 7 columns from the data set will be displayed.\n",
    "\n",
    "\n",
    "data=CSV.read(\"bank-additional-full.csv\")"
   ]
  },
  {
   "cell_type": "code",
   "execution_count": 3,
   "metadata": {},
   "outputs": [],
   "source": [
    "using DataFrames"
   ]
  },
  {
   "cell_type": "code",
   "execution_count": 4,
   "metadata": {},
   "outputs": [
    {
     "data": {
      "text/plain": [
       "(41188, 21)"
      ]
     },
     "execution_count": 4,
     "metadata": {},
     "output_type": "execute_result"
    }
   ],
   "source": [
    "#DESCRIBING THE DATA SET\n",
    "\n",
    "#We going to learn our data set\n",
    "\n",
    "# shape of the dataset, 41188 rows, 21 columns\n",
    "\n",
    "size(data)"
   ]
  },
  {
   "cell_type": "code",
   "execution_count": 5,
   "metadata": {},
   "outputs": [
    {
     "data": {
      "text/plain": [
       "21-element Array{Symbol,1}:\n",
       " :age                    \n",
       " :job                    \n",
       " :marital                \n",
       " :education              \n",
       " :default                \n",
       " :housing                \n",
       " :loan                   \n",
       " :contact                \n",
       " :month                  \n",
       " :day_of_week            \n",
       " :duration               \n",
       " :campaign               \n",
       " :pdays                  \n",
       " :previous               \n",
       " :poutcome               \n",
       " Symbol(\"emp.var.rate\")  \n",
       " Symbol(\"cons.price.idx\")\n",
       " Symbol(\"cons.conf.idx\") \n",
       " :euribor3m              \n",
       " Symbol(\"nr.employed\")   \n",
       " :y                      "
      ]
     },
     "execution_count": 5,
     "metadata": {},
     "output_type": "execute_result"
    }
   ],
   "source": [
    "#print all the columns \n",
    "\n",
    "names(data)"
   ]
  },
  {
   "cell_type": "code",
   "execution_count": 6,
   "metadata": {},
   "outputs": [
    {
     "data": {
      "text/html": [
       "<table class=\"data-frame\"><thead><tr><th></th><th>age</th><th>job</th><th>marital</th><th>education</th><th>default</th><th>housing</th><th>loan</th><th>contact</th></tr><tr><th></th><th>Int64</th><th>String</th><th>String</th><th>String</th><th>String</th><th>String</th><th>String</th><th>String</th></tr></thead><tbody><p>10 rows × 21 columns (omitted printing of 13 columns)</p><tr><th>1</th><td>56</td><td>housemaid</td><td>married</td><td>basic.4y</td><td>no</td><td>no</td><td>no</td><td>telephone</td></tr><tr><th>2</th><td>57</td><td>services</td><td>married</td><td>high.school</td><td>unknown</td><td>no</td><td>no</td><td>telephone</td></tr><tr><th>3</th><td>37</td><td>services</td><td>married</td><td>high.school</td><td>no</td><td>yes</td><td>no</td><td>telephone</td></tr><tr><th>4</th><td>40</td><td>admin.</td><td>married</td><td>basic.6y</td><td>no</td><td>no</td><td>no</td><td>telephone</td></tr><tr><th>5</th><td>56</td><td>services</td><td>married</td><td>high.school</td><td>no</td><td>no</td><td>yes</td><td>telephone</td></tr><tr><th>6</th><td>45</td><td>services</td><td>married</td><td>basic.9y</td><td>unknown</td><td>no</td><td>no</td><td>telephone</td></tr><tr><th>7</th><td>59</td><td>admin.</td><td>married</td><td>professional.course</td><td>no</td><td>no</td><td>no</td><td>telephone</td></tr><tr><th>8</th><td>41</td><td>blue-collar</td><td>married</td><td>unknown</td><td>unknown</td><td>no</td><td>no</td><td>telephone</td></tr><tr><th>9</th><td>24</td><td>technician</td><td>single</td><td>professional.course</td><td>no</td><td>yes</td><td>no</td><td>telephone</td></tr><tr><th>10</th><td>25</td><td>services</td><td>single</td><td>high.school</td><td>no</td><td>yes</td><td>no</td><td>telephone</td></tr></tbody></table>"
      ],
      "text/latex": [
       "\\begin{tabular}{r|ccccccccc}\n",
       "\t& age & job & marital & education & default & housing & loan & contact & \\\\\n",
       "\t\\hline\n",
       "\t& Int64 & String & String & String & String & String & String & String & \\\\\n",
       "\t\\hline\n",
       "\t1 & 56 & housemaid & married & basic.4y & no & no & no & telephone & $\\dots$ \\\\\n",
       "\t2 & 57 & services & married & high.school & unknown & no & no & telephone & $\\dots$ \\\\\n",
       "\t3 & 37 & services & married & high.school & no & yes & no & telephone & $\\dots$ \\\\\n",
       "\t4 & 40 & admin. & married & basic.6y & no & no & no & telephone & $\\dots$ \\\\\n",
       "\t5 & 56 & services & married & high.school & no & no & yes & telephone & $\\dots$ \\\\\n",
       "\t6 & 45 & services & married & basic.9y & unknown & no & no & telephone & $\\dots$ \\\\\n",
       "\t7 & 59 & admin. & married & professional.course & no & no & no & telephone & $\\dots$ \\\\\n",
       "\t8 & 41 & blue-collar & married & unknown & unknown & no & no & telephone & $\\dots$ \\\\\n",
       "\t9 & 24 & technician & single & professional.course & no & yes & no & telephone & $\\dots$ \\\\\n",
       "\t10 & 25 & services & single & high.school & no & yes & no & telephone & $\\dots$ \\\\\n",
       "\\end{tabular}\n"
      ],
      "text/plain": [
       "10×21 DataFrame. Omitted printing of 16 columns\n",
       "│ Row │ age   │ job         │ marital │ education           │ default │\n",
       "│     │ \u001b[90mInt64\u001b[39m │ \u001b[90mString\u001b[39m      │ \u001b[90mString\u001b[39m  │ \u001b[90mString\u001b[39m              │ \u001b[90mString\u001b[39m  │\n",
       "├─────┼───────┼─────────────┼─────────┼─────────────────────┼─────────┤\n",
       "│ 1   │ 56    │ housemaid   │ married │ basic.4y            │ no      │\n",
       "│ 2   │ 57    │ services    │ married │ high.school         │ unknown │\n",
       "│ 3   │ 37    │ services    │ married │ high.school         │ no      │\n",
       "│ 4   │ 40    │ admin.      │ married │ basic.6y            │ no      │\n",
       "│ 5   │ 56    │ services    │ married │ high.school         │ no      │\n",
       "│ 6   │ 45    │ services    │ married │ basic.9y            │ unknown │\n",
       "│ 7   │ 59    │ admin.      │ married │ professional.course │ no      │\n",
       "│ 8   │ 41    │ blue-collar │ married │ unknown             │ unknown │\n",
       "│ 9   │ 24    │ technician  │ single  │ professional.course │ no      │\n",
       "│ 10  │ 25    │ services    │ single  │ high.school         │ no      │"
      ]
     },
     "execution_count": 6,
     "metadata": {},
     "output_type": "execute_result"
    }
   ],
   "source": [
    "#showing the first 10 rows\n",
    "\n",
    "first(data, 10)"
   ]
  },
  {
   "cell_type": "code",
   "execution_count": 7,
   "metadata": {},
   "outputs": [
    {
     "data": {
      "text/html": [
       "<table class=\"data-frame\"><thead><tr><th></th><th>age</th><th>job</th><th>marital</th><th>education</th><th>default</th><th>housing</th><th>loan</th><th>contact</th></tr><tr><th></th><th>Int64</th><th>String</th><th>String</th><th>String</th><th>String</th><th>String</th><th>String</th><th>String</th></tr></thead><tbody><p>10 rows × 21 columns (omitted printing of 13 columns)</p><tr><th>1</th><td>62</td><td>retired</td><td>married</td><td>university.degree</td><td>no</td><td>no</td><td>no</td><td>cellular</td></tr><tr><th>2</th><td>64</td><td>retired</td><td>divorced</td><td>professional.course</td><td>no</td><td>yes</td><td>no</td><td>cellular</td></tr><tr><th>3</th><td>36</td><td>admin.</td><td>married</td><td>university.degree</td><td>no</td><td>no</td><td>no</td><td>cellular</td></tr><tr><th>4</th><td>37</td><td>admin.</td><td>married</td><td>university.degree</td><td>no</td><td>yes</td><td>no</td><td>cellular</td></tr><tr><th>5</th><td>29</td><td>unemployed</td><td>single</td><td>basic.4y</td><td>no</td><td>yes</td><td>no</td><td>cellular</td></tr><tr><th>6</th><td>73</td><td>retired</td><td>married</td><td>professional.course</td><td>no</td><td>yes</td><td>no</td><td>cellular</td></tr><tr><th>7</th><td>46</td><td>blue-collar</td><td>married</td><td>professional.course</td><td>no</td><td>no</td><td>no</td><td>cellular</td></tr><tr><th>8</th><td>56</td><td>retired</td><td>married</td><td>university.degree</td><td>no</td><td>yes</td><td>no</td><td>cellular</td></tr><tr><th>9</th><td>44</td><td>technician</td><td>married</td><td>professional.course</td><td>no</td><td>no</td><td>no</td><td>cellular</td></tr><tr><th>10</th><td>74</td><td>retired</td><td>married</td><td>professional.course</td><td>no</td><td>yes</td><td>no</td><td>cellular</td></tr></tbody></table>"
      ],
      "text/latex": [
       "\\begin{tabular}{r|ccccccccc}\n",
       "\t& age & job & marital & education & default & housing & loan & contact & \\\\\n",
       "\t\\hline\n",
       "\t& Int64 & String & String & String & String & String & String & String & \\\\\n",
       "\t\\hline\n",
       "\t1 & 62 & retired & married & university.degree & no & no & no & cellular & $\\dots$ \\\\\n",
       "\t2 & 64 & retired & divorced & professional.course & no & yes & no & cellular & $\\dots$ \\\\\n",
       "\t3 & 36 & admin. & married & university.degree & no & no & no & cellular & $\\dots$ \\\\\n",
       "\t4 & 37 & admin. & married & university.degree & no & yes & no & cellular & $\\dots$ \\\\\n",
       "\t5 & 29 & unemployed & single & basic.4y & no & yes & no & cellular & $\\dots$ \\\\\n",
       "\t6 & 73 & retired & married & professional.course & no & yes & no & cellular & $\\dots$ \\\\\n",
       "\t7 & 46 & blue-collar & married & professional.course & no & no & no & cellular & $\\dots$ \\\\\n",
       "\t8 & 56 & retired & married & university.degree & no & yes & no & cellular & $\\dots$ \\\\\n",
       "\t9 & 44 & technician & married & professional.course & no & no & no & cellular & $\\dots$ \\\\\n",
       "\t10 & 74 & retired & married & professional.course & no & yes & no & cellular & $\\dots$ \\\\\n",
       "\\end{tabular}\n"
      ],
      "text/plain": [
       "10×21 DataFrame. Omitted printing of 16 columns\n",
       "│ Row │ age   │ job         │ marital  │ education           │ default │\n",
       "│     │ \u001b[90mInt64\u001b[39m │ \u001b[90mString\u001b[39m      │ \u001b[90mString\u001b[39m   │ \u001b[90mString\u001b[39m              │ \u001b[90mString\u001b[39m  │\n",
       "├─────┼───────┼─────────────┼──────────┼─────────────────────┼─────────┤\n",
       "│ 1   │ 62    │ retired     │ married  │ university.degree   │ no      │\n",
       "│ 2   │ 64    │ retired     │ divorced │ professional.course │ no      │\n",
       "│ 3   │ 36    │ admin.      │ married  │ university.degree   │ no      │\n",
       "│ 4   │ 37    │ admin.      │ married  │ university.degree   │ no      │\n",
       "│ 5   │ 29    │ unemployed  │ single   │ basic.4y            │ no      │\n",
       "│ 6   │ 73    │ retired     │ married  │ professional.course │ no      │\n",
       "│ 7   │ 46    │ blue-collar │ married  │ professional.course │ no      │\n",
       "│ 8   │ 56    │ retired     │ married  │ university.degree   │ no      │\n",
       "│ 9   │ 44    │ technician  │ married  │ professional.course │ no      │\n",
       "│ 10  │ 74    │ retired     │ married  │ professional.course │ no      │"
      ]
     },
     "execution_count": 7,
     "metadata": {},
     "output_type": "execute_result"
    }
   ],
   "source": [
    "#showing the last 10 rows\n",
    "\n",
    "last(data, 10)"
   ]
  },
  {
   "cell_type": "code",
   "execution_count": 8,
   "metadata": {},
   "outputs": [
    {
     "data": {
      "text/html": [
       "<table class=\"data-frame\"><thead><tr><th></th><th>variable</th><th>mean</th><th>min</th><th>median</th><th>max</th><th>nunique</th><th>nmissing</th><th>eltype</th></tr><tr><th></th><th>Symbol</th><th>Union…</th><th>Any</th><th>Union…</th><th>Any</th><th>Union…</th><th>Nothing</th><th>DataType</th></tr></thead><tbody><p>21 rows × 8 columns</p><tr><th>1</th><td>age</td><td>40.0241</td><td>17</td><td>38.0</td><td>98</td><td></td><td></td><td>Int64</td></tr><tr><th>2</th><td>job</td><td></td><td>admin.</td><td></td><td>unknown</td><td>12</td><td></td><td>String</td></tr><tr><th>3</th><td>marital</td><td></td><td>divorced</td><td></td><td>unknown</td><td>4</td><td></td><td>String</td></tr><tr><th>4</th><td>education</td><td></td><td>basic.4y</td><td></td><td>unknown</td><td>8</td><td></td><td>String</td></tr><tr><th>5</th><td>default</td><td></td><td>no</td><td></td><td>yes</td><td>3</td><td></td><td>String</td></tr><tr><th>6</th><td>housing</td><td></td><td>no</td><td></td><td>yes</td><td>3</td><td></td><td>String</td></tr><tr><th>7</th><td>loan</td><td></td><td>no</td><td></td><td>yes</td><td>3</td><td></td><td>String</td></tr><tr><th>8</th><td>contact</td><td></td><td>cellular</td><td></td><td>telephone</td><td>2</td><td></td><td>String</td></tr><tr><th>9</th><td>month</td><td></td><td>apr</td><td></td><td>sep</td><td>10</td><td></td><td>String</td></tr><tr><th>10</th><td>day_of_week</td><td></td><td>fri</td><td></td><td>wed</td><td>5</td><td></td><td>String</td></tr><tr><th>11</th><td>duration</td><td>258.285</td><td>0</td><td>180.0</td><td>4918</td><td></td><td></td><td>Int64</td></tr><tr><th>12</th><td>campaign</td><td>2.56759</td><td>1</td><td>2.0</td><td>56</td><td></td><td></td><td>Int64</td></tr><tr><th>13</th><td>pdays</td><td>962.475</td><td>0</td><td>999.0</td><td>999</td><td></td><td></td><td>Int64</td></tr><tr><th>14</th><td>previous</td><td>0.172963</td><td>0</td><td>0.0</td><td>7</td><td></td><td></td><td>Int64</td></tr><tr><th>15</th><td>poutcome</td><td></td><td>failure</td><td></td><td>success</td><td>3</td><td></td><td>String</td></tr><tr><th>16</th><td>emp.var.rate</td><td>0.0818855</td><td>-3.4</td><td>1.1</td><td>1.4</td><td></td><td></td><td>Float64</td></tr><tr><th>17</th><td>cons.price.idx</td><td>93.5757</td><td>92.201</td><td>93.749</td><td>94.767</td><td></td><td></td><td>Float64</td></tr><tr><th>18</th><td>cons.conf.idx</td><td>-40.5026</td><td>-50.8</td><td>-41.8</td><td>-26.9</td><td></td><td></td><td>Float64</td></tr><tr><th>19</th><td>euribor3m</td><td>3.62129</td><td>0.634</td><td>4.857</td><td>5.045</td><td></td><td></td><td>Float64</td></tr><tr><th>20</th><td>nr.employed</td><td>5167.04</td><td>4963.6</td><td>5191.0</td><td>5228.1</td><td></td><td></td><td>Float64</td></tr><tr><th>21</th><td>y</td><td></td><td>no</td><td></td><td>yes</td><td>2</td><td></td><td>String</td></tr></tbody></table>"
      ],
      "text/latex": [
       "\\begin{tabular}{r|cccccccc}\n",
       "\t& variable & mean & min & median & max & nunique & nmissing & eltype\\\\\n",
       "\t\\hline\n",
       "\t& Symbol & Union… & Any & Union… & Any & Union… & Nothing & DataType\\\\\n",
       "\t\\hline\n",
       "\t1 & age & 40.0241 & 17 & 38.0 & 98 &  &  & Int64 \\\\\n",
       "\t2 & job &  & admin. &  & unknown & 12 &  & String \\\\\n",
       "\t3 & marital &  & divorced &  & unknown & 4 &  & String \\\\\n",
       "\t4 & education &  & basic.4y &  & unknown & 8 &  & String \\\\\n",
       "\t5 & default &  & no &  & yes & 3 &  & String \\\\\n",
       "\t6 & housing &  & no &  & yes & 3 &  & String \\\\\n",
       "\t7 & loan &  & no &  & yes & 3 &  & String \\\\\n",
       "\t8 & contact &  & cellular &  & telephone & 2 &  & String \\\\\n",
       "\t9 & month &  & apr &  & sep & 10 &  & String \\\\\n",
       "\t10 & day\\_of\\_week &  & fri &  & wed & 5 &  & String \\\\\n",
       "\t11 & duration & 258.285 & 0 & 180.0 & 4918 &  &  & Int64 \\\\\n",
       "\t12 & campaign & 2.56759 & 1 & 2.0 & 56 &  &  & Int64 \\\\\n",
       "\t13 & pdays & 962.475 & 0 & 999.0 & 999 &  &  & Int64 \\\\\n",
       "\t14 & previous & 0.172963 & 0 & 0.0 & 7 &  &  & Int64 \\\\\n",
       "\t15 & poutcome &  & failure &  & success & 3 &  & String \\\\\n",
       "\t16 & emp.var.rate & 0.0818855 & -3.4 & 1.1 & 1.4 &  &  & Float64 \\\\\n",
       "\t17 & cons.price.idx & 93.5757 & 92.201 & 93.749 & 94.767 &  &  & Float64 \\\\\n",
       "\t18 & cons.conf.idx & -40.5026 & -50.8 & -41.8 & -26.9 &  &  & Float64 \\\\\n",
       "\t19 & euribor3m & 3.62129 & 0.634 & 4.857 & 5.045 &  &  & Float64 \\\\\n",
       "\t20 & nr.employed & 5167.04 & 4963.6 & 5191.0 & 5228.1 &  &  & Float64 \\\\\n",
       "\t21 & y &  & no &  & yes & 2 &  & String \\\\\n",
       "\\end{tabular}\n"
      ],
      "text/plain": [
       "21×8 DataFrame. Omitted printing of 2 columns\n",
       "│ Row │ variable       │ mean      │ min      │ median │ max       │ nunique │\n",
       "│     │ \u001b[90mSymbol\u001b[39m         │ \u001b[90mUnion…\u001b[39m    │ \u001b[90mAny\u001b[39m      │ \u001b[90mUnion…\u001b[39m │ \u001b[90mAny\u001b[39m       │ \u001b[90mUnion…\u001b[39m  │\n",
       "├─────┼────────────────┼───────────┼──────────┼────────┼───────────┼─────────┤\n",
       "│ 1   │ age            │ 40.0241   │ 17       │ 38.0   │ 98        │         │\n",
       "│ 2   │ job            │           │ admin.   │        │ unknown   │ 12      │\n",
       "│ 3   │ marital        │           │ divorced │        │ unknown   │ 4       │\n",
       "│ 4   │ education      │           │ basic.4y │        │ unknown   │ 8       │\n",
       "│ 5   │ default        │           │ no       │        │ yes       │ 3       │\n",
       "│ 6   │ housing        │           │ no       │        │ yes       │ 3       │\n",
       "│ 7   │ loan           │           │ no       │        │ yes       │ 3       │\n",
       "│ 8   │ contact        │           │ cellular │        │ telephone │ 2       │\n",
       "│ 9   │ month          │           │ apr      │        │ sep       │ 10      │\n",
       "│ 10  │ day_of_week    │           │ fri      │        │ wed       │ 5       │\n",
       "│ 11  │ duration       │ 258.285   │ 0        │ 180.0  │ 4918      │         │\n",
       "│ 12  │ campaign       │ 2.56759   │ 1        │ 2.0    │ 56        │         │\n",
       "│ 13  │ pdays          │ 962.475   │ 0        │ 999.0  │ 999       │         │\n",
       "│ 14  │ previous       │ 0.172963  │ 0        │ 0.0    │ 7         │         │\n",
       "│ 15  │ poutcome       │           │ failure  │        │ success   │ 3       │\n",
       "│ 16  │ emp.var.rate   │ 0.0818855 │ -3.4     │ 1.1    │ 1.4       │         │\n",
       "│ 17  │ cons.price.idx │ 93.5757   │ 92.201   │ 93.749 │ 94.767    │         │\n",
       "│ 18  │ cons.conf.idx  │ -40.5026  │ -50.8    │ -41.8  │ -26.9     │         │\n",
       "│ 19  │ euribor3m      │ 3.62129   │ 0.634    │ 4.857  │ 5.045     │         │\n",
       "│ 20  │ nr.employed    │ 5167.04   │ 4963.6   │ 5191.0 │ 5228.1    │         │\n",
       "│ 21  │ y              │           │ no       │        │ yes       │ 2       │"
      ]
     },
     "execution_count": 8,
     "metadata": {},
     "output_type": "execute_result"
    }
   ],
   "source": [
    "#reports the summary of descriptive statistics for any numeric column and count statistics on each categorical column\n",
    "#shows min, max, quartiles, median and mean for the numeric\n",
    "# Shows the count number of values for each categories\n",
    "\n",
    "describe(data)"
   ]
  },
  {
   "cell_type": "code",
   "execution_count": 9,
   "metadata": {},
   "outputs": [
    {
     "data": {
      "text/plain": [
       "21-element Array{DataType,1}:\n",
       " Int64  \n",
       " String \n",
       " String \n",
       " String \n",
       " String \n",
       " String \n",
       " String \n",
       " String \n",
       " String \n",
       " String \n",
       " Int64  \n",
       " Int64  \n",
       " Int64  \n",
       " Int64  \n",
       " String \n",
       " Float64\n",
       " Float64\n",
       " Float64\n",
       " Float64\n",
       " Float64\n",
       " String "
      ]
     },
     "execution_count": 9,
     "metadata": {},
     "output_type": "execute_result"
    }
   ],
   "source": [
    "#checking Different Data Types in the data set\n",
    "\n",
    "\n",
    "#The outcome shows that there are 5 integers, 5 floats and 11 strings\n",
    "\n",
    "eltype.(eachcol(data))"
   ]
  },
  {
   "cell_type": "code",
   "execution_count": 10,
   "metadata": {},
   "outputs": [
    {
     "data": {
      "text/plain": [
       "false"
      ]
     },
     "execution_count": 10,
     "metadata": {},
     "output_type": "execute_result"
    }
   ],
   "source": [
    "#DATA CLEANING\n",
    "\n",
    "#Checking for missing values\n",
    "\n",
    "\n",
    "#This shows that there are no values missing in the data set\n",
    "\n",
    "ismissing(data)"
   ]
  },
  {
   "cell_type": "code",
   "execution_count": 11,
   "metadata": {},
   "outputs": [],
   "source": [
    "#Checking for outliers\n",
    "\n",
    "#The following plot graghs shows outliers for some numeric attributes and float attributes\n",
    "\n",
    "\n",
    "#The results shows (age and loan) are considered as outliers because they are more extreme than the observation of the outer fences\n",
    "\n",
    "#This outliers do have affect the analysis therefore it will not be removed."
   ]
  },
  {
   "cell_type": "code",
   "execution_count": 12,
   "metadata": {},
   "outputs": [
    {
     "data": {
      "text/plain": [
       "Plots.PyPlotBackend()"
      ]
     },
     "execution_count": 12,
     "metadata": {},
     "output_type": "execute_result"
    }
   ],
   "source": [
    "using Plots, StatsPlots  \n",
    "pyplot()    "
   ]
  },
  {
   "cell_type": "code",
   "execution_count": 13,
   "metadata": {},
   "outputs": [
    {
     "name": "stderr",
     "output_type": "stream",
     "text": [
      "┌ Warning: `getindex(df::DataFrame, col_ind::ColumnIndex)` is deprecated, use `df[!, col_ind]` instead.\n",
      "│   caller = top-level scope at In[13]:1\n",
      "└ @ Core In[13]:1\n"
     ]
    },
    {
     "data": {
      "image/png": "[encoded data removed]"
     },
     "execution_count": 13,
     "metadata": {},
     "output_type": "execute_result"
    }
   ],
   "source": [
    "#The boxplot detects the outliers on age over 70 years\n",
    "\n",
    "\n",
    "Plots.boxplot((data[:age]), ylabel=\"age\")"
   ]
  },
  {
   "cell_type": "code",
   "execution_count": 14,
   "metadata": {},
   "outputs": [
    {
     "name": "stderr",
     "output_type": "stream",
     "text": [
      "┌ Warning: `getindex(df::DataFrame, col_ind::ColumnIndex)` is deprecated, use `df[!, col_ind]` instead.\n",
      "│   caller = top-level scope at In[14]:1\n",
      "└ @ Core In[14]:1\n"
     ]
    },
    {
     "data": {
      "image/png": "[encoded data removed]"
     },
     "execution_count": 14,
     "metadata": {},
     "output_type": "execute_result"
    }
   ],
   "source": [
    "Plots.boxplot((data[:previous]), ylabel=\"previous\")"
   ]
  },
  {
   "cell_type": "code",
   "execution_count": 15,
   "metadata": {},
   "outputs": [
    {
     "name": "stderr",
     "output_type": "stream",
     "text": [
      "┌ Warning: `getindex(df::DataFrame, col_ind::ColumnIndex)` is deprecated, use `df[!, col_ind]` instead.\n",
      "│   caller = top-level scope at In[15]:1\n",
      "└ @ Core In[15]:1\n"
     ]
    },
    {
     "data": {
      "image/png": "[encoded data removed]"
     },
     "execution_count": 15,
     "metadata": {},
     "output_type": "execute_result"
    }
   ],
   "source": [
    "Plots.boxplot((data[:duration]), ylabel=\"duration\")"
   ]
  },
  {
   "cell_type": "code",
   "execution_count": 16,
   "metadata": {},
   "outputs": [
    {
     "name": "stderr",
     "output_type": "stream",
     "text": [
      "┌ Warning: `getindex(df::DataFrame, col_ind::ColumnIndex)` is deprecated, use `df[!, col_ind]` instead.\n",
      "│   caller = top-level scope at In[16]:1\n",
      "└ @ Core In[16]:1\n"
     ]
    },
    {
     "data": {
      "image/png": "[encoded data removed]"
     },
     "execution_count": 16,
     "metadata": {},
     "output_type": "execute_result"
    }
   ],
   "source": [
    "#No outlier detected euribor3m\n",
    "\n",
    "\n",
    "Plots.boxplot((data[:euribor3m]), ylabel=\"euribor3m\")"
   ]
  },
  {
   "cell_type": "code",
   "execution_count": 17,
   "metadata": {},
   "outputs": [
    {
     "name": "stderr",
     "output_type": "stream",
     "text": [
      "┌ Warning: `getindex(df::DataFrame, col_ind::ColumnIndex)` is deprecated, use `df[!, col_ind]` instead.\n",
      "│   caller = top-level scope at In[17]:1\n",
      "└ @ Core In[17]:1\n"
     ]
    },
    {
     "data": {
      "image/png": "[encoded data removed]"
     },
     "execution_count": 17,
     "metadata": {},
     "output_type": "execute_result"
    }
   ],
   "source": [
    "# No outlier detected on nr.employed\n",
    "\n",
    "\n",
    "Plots.boxplot((data[:20]), ylabel=20)"
   ]
  },
  {
   "cell_type": "code",
   "execution_count": 18,
   "metadata": {},
   "outputs": [
    {
     "name": "stderr",
     "output_type": "stream",
     "text": [
      "┌ Warning: `getindex(df::DataFrame, col_ind::ColumnIndex)` is deprecated, use `df[!, col_ind]` instead.\n",
      "│   caller = top-level scope at In[18]:1\n",
      "└ @ Core In[18]:1\n"
     ]
    },
    {
     "data": {
      "image/png": "[encoded data removed]"
     },
     "execution_count": 18,
     "metadata": {},
     "output_type": "execute_result"
    }
   ],
   "source": [
    "# No outlier detected on emp.var.rate\n",
    "\n",
    "Plots.boxplot((data[:16]), ylabel=16)"
   ]
  },
  {
   "cell_type": "code",
   "execution_count": 19,
   "metadata": {},
   "outputs": [
    {
     "name": "stderr",
     "output_type": "stream",
     "text": [
      "┌ Warning: `getindex(df::DataFrame, col_ind::ColumnIndex)` is deprecated, use `df[!, col_ind]` instead.\n",
      "│   caller = top-level scope at In[19]:1\n",
      "└ @ Core In[19]:1\n"
     ]
    },
    {
     "data": {
      "image/png": "[encoded data removed]"
     },
     "execution_count": 19,
     "metadata": {},
     "output_type": "execute_result"
    }
   ],
   "source": [
    "# No outlier detected on cons.price.idx\n",
    "\n",
    "Plots.boxplot((data[:17]), ylabel=17)"
   ]
  },
  {
   "cell_type": "code",
   "execution_count": 20,
   "metadata": {},
   "outputs": [
    {
     "name": "stderr",
     "output_type": "stream",
     "text": [
      "┌ Warning: `getindex(df::DataFrame, col_ind::ColumnIndex)` is deprecated, use `df[!, col_ind]` instead.\n",
      "│   caller = top-level scope at In[20]:1\n",
      "└ @ Core In[20]:1\n"
     ]
    },
    {
     "data": {
      "image/png": "[encoded data removed]"
     },
     "execution_count": 20,
     "metadata": {},
     "output_type": "execute_result"
    }
   ],
   "source": [
    "#Visualization on age\n",
    "\n",
    "#The results shows that people between the age 30 and 40, are likely to place a term deposit\n",
    "\n",
    "\n",
    " Plots.histogram((data[:age]),bins=50,xlabel=\"age\",labels=\"Frequency\")"
   ]
  },
  {
   "cell_type": "code",
   "execution_count": 21,
   "metadata": {},
   "outputs": [
    {
     "data": {
      "text/html": [
       "<table class=\"data-frame\"><thead><tr><th></th><th>age</th><th>job</th><th>marital</th><th>education</th><th>default</th><th>housing</th><th>loan</th></tr><tr><th></th><th>Int64</th><th>String</th><th>String</th><th>String</th><th>String</th><th>String</th><th>String</th></tr></thead><tbody><p>41,188 rows × 21 columns (omitted printing of 14 columns)</p><tr><th>1</th><td>56</td><td>housemaid</td><td>married</td><td>basic.4y</td><td>no</td><td>no</td><td>no</td></tr><tr><th>2</th><td>57</td><td>services</td><td>married</td><td>high.school</td><td>unknown</td><td>no</td><td>no</td></tr><tr><th>3</th><td>37</td><td>services</td><td>married</td><td>high.school</td><td>no</td><td>yes</td><td>no</td></tr><tr><th>4</th><td>40</td><td>admin.</td><td>married</td><td>basic.6y</td><td>no</td><td>no</td><td>no</td></tr><tr><th>5</th><td>56</td><td>services</td><td>married</td><td>high.school</td><td>no</td><td>no</td><td>yes</td></tr><tr><th>6</th><td>45</td><td>services</td><td>married</td><td>basic.9y</td><td>unknown</td><td>no</td><td>no</td></tr><tr><th>7</th><td>59</td><td>admin.</td><td>married</td><td>professional.course</td><td>no</td><td>no</td><td>no</td></tr><tr><th>8</th><td>41</td><td>blue-collar</td><td>married</td><td>unknown</td><td>unknown</td><td>no</td><td>no</td></tr><tr><th>9</th><td>24</td><td>technician</td><td>single</td><td>professional.course</td><td>no</td><td>yes</td><td>no</td></tr><tr><th>10</th><td>25</td><td>services</td><td>single</td><td>high.school</td><td>no</td><td>yes</td><td>no</td></tr><tr><th>11</th><td>41</td><td>blue-collar</td><td>married</td><td>unknown</td><td>unknown</td><td>no</td><td>no</td></tr><tr><th>12</th><td>25</td><td>services</td><td>single</td><td>high.school</td><td>no</td><td>yes</td><td>no</td></tr><tr><th>13</th><td>29</td><td>blue-collar</td><td>single</td><td>high.school</td><td>no</td><td>no</td><td>yes</td></tr><tr><th>14</th><td>57</td><td>housemaid</td><td>divorced</td><td>basic.4y</td><td>no</td><td>yes</td><td>no</td></tr><tr><th>15</th><td>35</td><td>blue-collar</td><td>married</td><td>basic.6y</td><td>no</td><td>yes</td><td>no</td></tr><tr><th>16</th><td>54</td><td>retired</td><td>married</td><td>basic.9y</td><td>unknown</td><td>yes</td><td>yes</td></tr><tr><th>17</th><td>35</td><td>blue-collar</td><td>married</td><td>basic.6y</td><td>no</td><td>yes</td><td>no</td></tr><tr><th>18</th><td>46</td><td>blue-collar</td><td>married</td><td>basic.6y</td><td>unknown</td><td>yes</td><td>yes</td></tr><tr><th>19</th><td>50</td><td>blue-collar</td><td>married</td><td>basic.9y</td><td>no</td><td>yes</td><td>yes</td></tr><tr><th>20</th><td>39</td><td>management</td><td>single</td><td>basic.9y</td><td>unknown</td><td>no</td><td>no</td></tr><tr><th>21</th><td>30</td><td>unemployed</td><td>married</td><td>high.school</td><td>no</td><td>no</td><td>no</td></tr><tr><th>22</th><td>55</td><td>blue-collar</td><td>married</td><td>basic.4y</td><td>unknown</td><td>yes</td><td>no</td></tr><tr><th>23</th><td>55</td><td>retired</td><td>single</td><td>high.school</td><td>no</td><td>yes</td><td>no</td></tr><tr><th>24</th><td>41</td><td>technician</td><td>single</td><td>high.school</td><td>no</td><td>yes</td><td>no</td></tr><tr><th>25</th><td>37</td><td>admin.</td><td>married</td><td>high.school</td><td>no</td><td>yes</td><td>no</td></tr><tr><th>26</th><td>35</td><td>technician</td><td>married</td><td>university.degree</td><td>no</td><td>no</td><td>yes</td></tr><tr><th>27</th><td>59</td><td>technician</td><td>married</td><td>unknown</td><td>no</td><td>yes</td><td>no</td></tr><tr><th>28</th><td>39</td><td>self-employed</td><td>married</td><td>basic.9y</td><td>unknown</td><td>no</td><td>no</td></tr><tr><th>29</th><td>54</td><td>technician</td><td>single</td><td>university.degree</td><td>unknown</td><td>no</td><td>no</td></tr><tr><th>30</th><td>55</td><td>unknown</td><td>married</td><td>university.degree</td><td>unknown</td><td>unknown</td><td>unknown</td></tr><tr><th>&vellip;</th><td>&vellip;</td><td>&vellip;</td><td>&vellip;</td><td>&vellip;</td><td>&vellip;</td><td>&vellip;</td><td>&vellip;</td></tr></tbody></table>"
      ],
      "text/latex": [
       "\\begin{tabular}{r|cccccccc}\n",
       "\t& age & job & marital & education & default & housing & loan & \\\\\n",
       "\t\\hline\n",
       "\t& Int64 & String & String & String & String & String & String & \\\\\n",
       "\t\\hline\n",
       "\t1 & 56 & housemaid & married & basic.4y & no & no & no & $\\dots$ \\\\\n",
       "\t2 & 57 & services & married & high.school & unknown & no & no & $\\dots$ \\\\\n",
       "\t3 & 37 & services & married & high.school & no & yes & no & $\\dots$ \\\\\n",
       "\t4 & 40 & admin. & married & basic.6y & no & no & no & $\\dots$ \\\\\n",
       "\t5 & 56 & services & married & high.school & no & no & yes & $\\dots$ \\\\\n",
       "\t6 & 45 & services & married & basic.9y & unknown & no & no & $\\dots$ \\\\\n",
       "\t7 & 59 & admin. & married & professional.course & no & no & no & $\\dots$ \\\\\n",
       "\t8 & 41 & blue-collar & married & unknown & unknown & no & no & $\\dots$ \\\\\n",
       "\t9 & 24 & technician & single & professional.course & no & yes & no & $\\dots$ \\\\\n",
       "\t10 & 25 & services & single & high.school & no & yes & no & $\\dots$ \\\\\n",
       "\t11 & 41 & blue-collar & married & unknown & unknown & no & no & $\\dots$ \\\\\n",
       "\t12 & 25 & services & single & high.school & no & yes & no & $\\dots$ \\\\\n",
       "\t13 & 29 & blue-collar & single & high.school & no & no & yes & $\\dots$ \\\\\n",
       "\t14 & 57 & housemaid & divorced & basic.4y & no & yes & no & $\\dots$ \\\\\n",
       "\t15 & 35 & blue-collar & married & basic.6y & no & yes & no & $\\dots$ \\\\\n",
       "\t16 & 54 & retired & married & basic.9y & unknown & yes & yes & $\\dots$ \\\\\n",
       "\t17 & 35 & blue-collar & married & basic.6y & no & yes & no & $\\dots$ \\\\\n",
       "\t18 & 46 & blue-collar & married & basic.6y & unknown & yes & yes & $\\dots$ \\\\\n",
       "\t19 & 50 & blue-collar & married & basic.9y & no & yes & yes & $\\dots$ \\\\\n",
       "\t20 & 39 & management & single & basic.9y & unknown & no & no & $\\dots$ \\\\\n",
       "\t21 & 30 & unemployed & married & high.school & no & no & no & $\\dots$ \\\\\n",
       "\t22 & 55 & blue-collar & married & basic.4y & unknown & yes & no & $\\dots$ \\\\\n",
       "\t23 & 55 & retired & single & high.school & no & yes & no & $\\dots$ \\\\\n",
       "\t24 & 41 & technician & single & high.school & no & yes & no & $\\dots$ \\\\\n",
       "\t25 & 37 & admin. & married & high.school & no & yes & no & $\\dots$ \\\\\n",
       "\t26 & 35 & technician & married & university.degree & no & no & yes & $\\dots$ \\\\\n",
       "\t27 & 59 & technician & married & unknown & no & yes & no & $\\dots$ \\\\\n",
       "\t28 & 39 & self-employed & married & basic.9y & unknown & no & no & $\\dots$ \\\\\n",
       "\t29 & 54 & technician & single & university.degree & unknown & no & no & $\\dots$ \\\\\n",
       "\t30 & 55 & unknown & married & university.degree & unknown & unknown & unknown & $\\dots$ \\\\\n",
       "\t$\\dots$ & $\\dots$ & $\\dots$ & $\\dots$ & $\\dots$ & $\\dots$ & $\\dots$ & $\\dots$ &  \\\\\n",
       "\\end{tabular}\n"
      ],
      "text/plain": [
       "41188×21 DataFrame. Omitted printing of 16 columns\n",
       "│ Row   │ age   │ job         │ marital  │ education           │ default │\n",
       "│       │ \u001b[90mInt64\u001b[39m │ \u001b[90mString\u001b[39m      │ \u001b[90mString\u001b[39m   │ \u001b[90mString\u001b[39m              │ \u001b[90mString\u001b[39m  │\n",
       "├───────┼───────┼─────────────┼──────────┼─────────────────────┼─────────┤\n",
       "│ 1     │ 56    │ housemaid   │ married  │ basic.4y            │ no      │\n",
       "│ 2     │ 57    │ services    │ married  │ high.school         │ unknown │\n",
       "│ 3     │ 37    │ services    │ married  │ high.school         │ no      │\n",
       "│ 4     │ 40    │ admin.      │ married  │ basic.6y            │ no      │\n",
       "│ 5     │ 56    │ services    │ married  │ high.school         │ no      │\n",
       "│ 6     │ 45    │ services    │ married  │ basic.9y            │ unknown │\n",
       "│ 7     │ 59    │ admin.      │ married  │ professional.course │ no      │\n",
       "│ 8     │ 41    │ blue-collar │ married  │ unknown             │ unknown │\n",
       "│ 9     │ 24    │ technician  │ single   │ professional.course │ no      │\n",
       "│ 10    │ 25    │ services    │ single   │ high.school         │ no      │\n",
       "⋮\n",
       "│ 41178 │ 57    │ retired     │ married  │ professional.course │ no      │\n",
       "│ 41179 │ 62    │ retired     │ married  │ university.degree   │ no      │\n",
       "│ 41180 │ 64    │ retired     │ divorced │ professional.course │ no      │\n",
       "│ 41181 │ 36    │ admin.      │ married  │ university.degree   │ no      │\n",
       "│ 41182 │ 37    │ admin.      │ married  │ university.degree   │ no      │\n",
       "│ 41183 │ 29    │ unemployed  │ single   │ basic.4y            │ no      │\n",
       "│ 41184 │ 73    │ retired     │ married  │ professional.course │ no      │\n",
       "│ 41185 │ 46    │ blue-collar │ married  │ professional.course │ no      │\n",
       "│ 41186 │ 56    │ retired     │ married  │ university.degree   │ no      │\n",
       "│ 41187 │ 44    │ technician  │ married  │ professional.course │ no      │\n",
       "│ 41188 │ 74    │ retired     │ married  │ professional.course │ no      │"
      ]
     },
     "execution_count": 21,
     "metadata": {},
     "output_type": "execute_result"
    }
   ],
   "source": [
    "#Move original data file to dummy  \n",
    "\n",
    "dummy=data[:, [1, 2, 3, 4, 5, 6, 7, 8, 9, 10, 11, 12, 13, 14, 15, 16, 17, 18, 19, 20, 21]]"
   ]
  },
  {
   "cell_type": "code",
   "execution_count": 22,
   "metadata": {},
   "outputs": [
    {
     "data": {
      "text/plain": [
       "PyObject LabelEncoder()"
      ]
     },
     "execution_count": 22,
     "metadata": {},
     "output_type": "execute_result"
    }
   ],
   "source": [
    "using ScikitLearn \n",
    " @sk_import preprocessing: LabelEncoder \n",
    " labelencoder = LabelEncoder() "
   ]
  },
  {
   "cell_type": "code",
   "execution_count": 23,
   "metadata": {},
   "outputs": [
    {
     "name": "stderr",
     "output_type": "stream",
     "text": [
      "┌ Warning: `getindex(df::DataFrame, col_ind::ColumnIndex)` is deprecated, use `df[!, col_ind]` instead.\n",
      "│   caller = top-level scope at In[23]:11\n",
      "└ @ Core .\\In[23]:11\n",
      "┌ Warning: `setindex!(df::DataFrame, v::AbstractVector, col_ind::ColumnIndex)` is deprecated, use `begin\n",
      "│     df[!, col_ind] = v\n",
      "│     df\n",
      "│ end` instead.\n",
      "│   caller = top-level scope at In[23]:11\n",
      "└ @ Core .\\In[23]:11\n"
     ]
    }
   ],
   "source": [
    "#Converting the data type\n",
    "\n",
    "#Converting all categories to numeric\n",
    " \n",
    "\n",
    "\n",
    "  categories = [2 3 4 5 6 7 8 9 10 15 21]\n",
    "\n",
    "\n",
    " for col in categories \n",
    "     dummy[col] = fit_transform!(labelencoder, dummy[col]) \n",
    " end"
   ]
  },
  {
   "cell_type": "code",
   "execution_count": 24,
   "metadata": {},
   "outputs": [
    {
     "data": {
      "text/html": [
       "<table class=\"data-frame\"><thead><tr><th></th><th>age</th><th>job</th><th>marital</th><th>education</th><th>default</th><th>housing</th><th>loan</th><th>contact</th><th>month</th><th>day_of_week</th></tr><tr><th></th><th>Int64</th><th>Int64</th><th>Int64</th><th>Int64</th><th>Int64</th><th>Int64</th><th>Int64</th><th>Int64</th><th>Int64</th><th>Int64</th></tr></thead><tbody><p>10 rows × 21 columns (omitted printing of 11 columns)</p><tr><th>1</th><td>56</td><td>3</td><td>1</td><td>0</td><td>0</td><td>0</td><td>0</td><td>1</td><td>6</td><td>1</td></tr><tr><th>2</th><td>57</td><td>7</td><td>1</td><td>3</td><td>1</td><td>0</td><td>0</td><td>1</td><td>6</td><td>1</td></tr><tr><th>3</th><td>37</td><td>7</td><td>1</td><td>3</td><td>0</td><td>2</td><td>0</td><td>1</td><td>6</td><td>1</td></tr><tr><th>4</th><td>40</td><td>0</td><td>1</td><td>1</td><td>0</td><td>0</td><td>0</td><td>1</td><td>6</td><td>1</td></tr><tr><th>5</th><td>56</td><td>7</td><td>1</td><td>3</td><td>0</td><td>0</td><td>2</td><td>1</td><td>6</td><td>1</td></tr><tr><th>6</th><td>45</td><td>7</td><td>1</td><td>2</td><td>1</td><td>0</td><td>0</td><td>1</td><td>6</td><td>1</td></tr><tr><th>7</th><td>59</td><td>0</td><td>1</td><td>5</td><td>0</td><td>0</td><td>0</td><td>1</td><td>6</td><td>1</td></tr><tr><th>8</th><td>41</td><td>1</td><td>1</td><td>7</td><td>1</td><td>0</td><td>0</td><td>1</td><td>6</td><td>1</td></tr><tr><th>9</th><td>24</td><td>9</td><td>2</td><td>5</td><td>0</td><td>2</td><td>0</td><td>1</td><td>6</td><td>1</td></tr><tr><th>10</th><td>25</td><td>7</td><td>2</td><td>3</td><td>0</td><td>2</td><td>0</td><td>1</td><td>6</td><td>1</td></tr></tbody></table>"
      ],
      "text/latex": [
       "\\begin{tabular}{r|ccccccccccc}\n",
       "\t& age & job & marital & education & default & housing & loan & contact & month & day\\_of\\_week & \\\\\n",
       "\t\\hline\n",
       "\t& Int64 & Int64 & Int64 & Int64 & Int64 & Int64 & Int64 & Int64 & Int64 & Int64 & \\\\\n",
       "\t\\hline\n",
       "\t1 & 56 & 3 & 1 & 0 & 0 & 0 & 0 & 1 & 6 & 1 & $\\dots$ \\\\\n",
       "\t2 & 57 & 7 & 1 & 3 & 1 & 0 & 0 & 1 & 6 & 1 & $\\dots$ \\\\\n",
       "\t3 & 37 & 7 & 1 & 3 & 0 & 2 & 0 & 1 & 6 & 1 & $\\dots$ \\\\\n",
       "\t4 & 40 & 0 & 1 & 1 & 0 & 0 & 0 & 1 & 6 & 1 & $\\dots$ \\\\\n",
       "\t5 & 56 & 7 & 1 & 3 & 0 & 0 & 2 & 1 & 6 & 1 & $\\dots$ \\\\\n",
       "\t6 & 45 & 7 & 1 & 2 & 1 & 0 & 0 & 1 & 6 & 1 & $\\dots$ \\\\\n",
       "\t7 & 59 & 0 & 1 & 5 & 0 & 0 & 0 & 1 & 6 & 1 & $\\dots$ \\\\\n",
       "\t8 & 41 & 1 & 1 & 7 & 1 & 0 & 0 & 1 & 6 & 1 & $\\dots$ \\\\\n",
       "\t9 & 24 & 9 & 2 & 5 & 0 & 2 & 0 & 1 & 6 & 1 & $\\dots$ \\\\\n",
       "\t10 & 25 & 7 & 2 & 3 & 0 & 2 & 0 & 1 & 6 & 1 & $\\dots$ \\\\\n",
       "\\end{tabular}\n"
      ],
      "text/plain": [
       "10×21 DataFrame. Omitted printing of 14 columns\n",
       "│ Row │ age   │ job   │ marital │ education │ default │ housing │ loan  │\n",
       "│     │ \u001b[90mInt64\u001b[39m │ \u001b[90mInt64\u001b[39m │ \u001b[90mInt64\u001b[39m   │ \u001b[90mInt64\u001b[39m     │ \u001b[90mInt64\u001b[39m   │ \u001b[90mInt64\u001b[39m   │ \u001b[90mInt64\u001b[39m │\n",
       "├─────┼───────┼───────┼─────────┼───────────┼─────────┼─────────┼───────┤\n",
       "│ 1   │ 56    │ 3     │ 1       │ 0         │ 0       │ 0       │ 0     │\n",
       "│ 2   │ 57    │ 7     │ 1       │ 3         │ 1       │ 0       │ 0     │\n",
       "│ 3   │ 37    │ 7     │ 1       │ 3         │ 0       │ 2       │ 0     │\n",
       "│ 4   │ 40    │ 0     │ 1       │ 1         │ 0       │ 0       │ 0     │\n",
       "│ 5   │ 56    │ 7     │ 1       │ 3         │ 0       │ 0       │ 2     │\n",
       "│ 6   │ 45    │ 7     │ 1       │ 2         │ 1       │ 0       │ 0     │\n",
       "│ 7   │ 59    │ 0     │ 1       │ 5         │ 0       │ 0       │ 0     │\n",
       "│ 8   │ 41    │ 1     │ 1       │ 7         │ 1       │ 0       │ 0     │\n",
       "│ 9   │ 24    │ 9     │ 2       │ 5         │ 0       │ 2       │ 0     │\n",
       "│ 10  │ 25    │ 7     │ 2       │ 3         │ 0       │ 2       │ 0     │"
      ]
     },
     "execution_count": 24,
     "metadata": {},
     "output_type": "execute_result"
    }
   ],
   "source": [
    "#This shows that we have converted all our categories to numeric\n",
    "\n",
    "first(dummy, 10)"
   ]
  },
  {
   "cell_type": "code",
   "execution_count": 25,
   "metadata": {},
   "outputs": [
    {
     "data": {
      "text/html": [
       "<table class=\"data-frame\"><thead><tr><th></th><th>age</th><th>job</th><th>marital</th><th>education</th><th>default</th><th>housing</th><th>loan</th><th>contact</th><th>month</th><th>day_of_week</th></tr><tr><th></th><th>Int64</th><th>Int64</th><th>Int64</th><th>Int64</th><th>Int64</th><th>Int64</th><th>Int64</th><th>Int64</th><th>Int64</th><th>Int64</th></tr></thead><tbody><p>10 rows × 21 columns (omitted printing of 11 columns)</p><tr><th>1</th><td>62</td><td>5</td><td>1</td><td>6</td><td>0</td><td>0</td><td>0</td><td>0</td><td>7</td><td>2</td></tr><tr><th>2</th><td>64</td><td>5</td><td>0</td><td>5</td><td>0</td><td>2</td><td>0</td><td>0</td><td>7</td><td>0</td></tr><tr><th>3</th><td>36</td><td>0</td><td>1</td><td>6</td><td>0</td><td>0</td><td>0</td><td>0</td><td>7</td><td>0</td></tr><tr><th>4</th><td>37</td><td>0</td><td>1</td><td>6</td><td>0</td><td>2</td><td>0</td><td>0</td><td>7</td><td>0</td></tr><tr><th>5</th><td>29</td><td>10</td><td>2</td><td>0</td><td>0</td><td>2</td><td>0</td><td>0</td><td>7</td><td>0</td></tr><tr><th>6</th><td>73</td><td>5</td><td>1</td><td>5</td><td>0</td><td>2</td><td>0</td><td>0</td><td>7</td><td>0</td></tr><tr><th>7</th><td>46</td><td>1</td><td>1</td><td>5</td><td>0</td><td>0</td><td>0</td><td>0</td><td>7</td><td>0</td></tr><tr><th>8</th><td>56</td><td>5</td><td>1</td><td>6</td><td>0</td><td>2</td><td>0</td><td>0</td><td>7</td><td>0</td></tr><tr><th>9</th><td>44</td><td>9</td><td>1</td><td>5</td><td>0</td><td>0</td><td>0</td><td>0</td><td>7</td><td>0</td></tr><tr><th>10</th><td>74</td><td>5</td><td>1</td><td>5</td><td>0</td><td>2</td><td>0</td><td>0</td><td>7</td><td>0</td></tr></tbody></table>"
      ],
      "text/latex": [
       "\\begin{tabular}{r|ccccccccccc}\n",
       "\t& age & job & marital & education & default & housing & loan & contact & month & day\\_of\\_week & \\\\\n",
       "\t\\hline\n",
       "\t& Int64 & Int64 & Int64 & Int64 & Int64 & Int64 & Int64 & Int64 & Int64 & Int64 & \\\\\n",
       "\t\\hline\n",
       "\t1 & 62 & 5 & 1 & 6 & 0 & 0 & 0 & 0 & 7 & 2 & $\\dots$ \\\\\n",
       "\t2 & 64 & 5 & 0 & 5 & 0 & 2 & 0 & 0 & 7 & 0 & $\\dots$ \\\\\n",
       "\t3 & 36 & 0 & 1 & 6 & 0 & 0 & 0 & 0 & 7 & 0 & $\\dots$ \\\\\n",
       "\t4 & 37 & 0 & 1 & 6 & 0 & 2 & 0 & 0 & 7 & 0 & $\\dots$ \\\\\n",
       "\t5 & 29 & 10 & 2 & 0 & 0 & 2 & 0 & 0 & 7 & 0 & $\\dots$ \\\\\n",
       "\t6 & 73 & 5 & 1 & 5 & 0 & 2 & 0 & 0 & 7 & 0 & $\\dots$ \\\\\n",
       "\t7 & 46 & 1 & 1 & 5 & 0 & 0 & 0 & 0 & 7 & 0 & $\\dots$ \\\\\n",
       "\t8 & 56 & 5 & 1 & 6 & 0 & 2 & 0 & 0 & 7 & 0 & $\\dots$ \\\\\n",
       "\t9 & 44 & 9 & 1 & 5 & 0 & 0 & 0 & 0 & 7 & 0 & $\\dots$ \\\\\n",
       "\t10 & 74 & 5 & 1 & 5 & 0 & 2 & 0 & 0 & 7 & 0 & $\\dots$ \\\\\n",
       "\\end{tabular}\n"
      ],
      "text/plain": [
       "10×21 DataFrame. Omitted printing of 14 columns\n",
       "│ Row │ age   │ job   │ marital │ education │ default │ housing │ loan  │\n",
       "│     │ \u001b[90mInt64\u001b[39m │ \u001b[90mInt64\u001b[39m │ \u001b[90mInt64\u001b[39m   │ \u001b[90mInt64\u001b[39m     │ \u001b[90mInt64\u001b[39m   │ \u001b[90mInt64\u001b[39m   │ \u001b[90mInt64\u001b[39m │\n",
       "├─────┼───────┼───────┼─────────┼───────────┼─────────┼─────────┼───────┤\n",
       "│ 1   │ 62    │ 5     │ 1       │ 6         │ 0       │ 0       │ 0     │\n",
       "│ 2   │ 64    │ 5     │ 0       │ 5         │ 0       │ 2       │ 0     │\n",
       "│ 3   │ 36    │ 0     │ 1       │ 6         │ 0       │ 0       │ 0     │\n",
       "│ 4   │ 37    │ 0     │ 1       │ 6         │ 0       │ 2       │ 0     │\n",
       "│ 5   │ 29    │ 10    │ 2       │ 0         │ 0       │ 2       │ 0     │\n",
       "│ 6   │ 73    │ 5     │ 1       │ 5         │ 0       │ 2       │ 0     │\n",
       "│ 7   │ 46    │ 1     │ 1       │ 5         │ 0       │ 0       │ 0     │\n",
       "│ 8   │ 56    │ 5     │ 1       │ 6         │ 0       │ 2       │ 0     │\n",
       "│ 9   │ 44    │ 9     │ 1       │ 5         │ 0       │ 0       │ 0     │\n",
       "│ 10  │ 74    │ 5     │ 1       │ 5         │ 0       │ 2       │ 0     │"
      ]
     },
     "execution_count": 25,
     "metadata": {},
     "output_type": "execute_result"
    }
   ],
   "source": [
    "last(dummy, 10)"
   ]
  },
  {
   "cell_type": "code",
   "execution_count": 26,
   "metadata": {},
   "outputs": [
    {
     "name": "stderr",
     "output_type": "stream",
     "text": [
      "WARNING: redefining constant LabelEncoder\n",
      "┌ Warning: Module model_selection has been ported to Julia - try `import ScikitLearn: CrossValidation` instead\n",
      "└ @ ScikitLearn.Skcore C:\\Users\\305TECH\\.julia\\packages\\ScikitLearn\\bo2Pt\\src\\Skcore.jl:140\n"
     ]
    },
    {
     "data": {
      "text/plain": [
       "PyObject <class 'sklearn.tree._classes.DecisionTreeClassifier'>"
      ]
     },
     "execution_count": 26,
     "metadata": {},
     "output_type": "execute_result"
    }
   ],
   "source": [
    "#FEATURE SELECTION\n",
    "\n",
    "#Choosing important attributes\n",
    "\n",
    "using ScikitLearn: fit!, predict, @sk_import, fit_transform! \n",
    " @sk_import preprocessing: LabelEncoder \n",
    " @sk_import model_selection: cross_val_score  \n",
    " @sk_import metrics: accuracy_score \n",
    " @sk_import linear_model: LogisticRegression \n",
    " @sk_import ensemble: RandomForestClassifier \n",
    " @sk_import tree: DecisionTreeClassifier "
   ]
  },
  {
   "cell_type": "code",
   "execution_count": 27,
   "metadata": {},
   "outputs": [
    {
     "data": {
      "text/html": [
       "<table class=\"data-frame\"><thead><tr><th></th><th>age</th><th>job</th><th>marital</th><th>default</th><th>housing</th><th>loan</th><th>duration</th><th>previous</th><th>poutcome</th><th>emp.var.rate</th></tr><tr><th></th><th>Int64</th><th>Int64</th><th>Int64</th><th>Int64</th><th>Int64</th><th>Int64</th><th>Int64</th><th>Int64</th><th>Int64</th><th>Float64</th></tr></thead><tbody><p>41,188 rows × 11 columns (omitted printing of 1 columns)</p><tr><th>1</th><td>56</td><td>3</td><td>1</td><td>0</td><td>0</td><td>0</td><td>261</td><td>0</td><td>1</td><td>1.1</td></tr><tr><th>2</th><td>57</td><td>7</td><td>1</td><td>1</td><td>0</td><td>0</td><td>149</td><td>0</td><td>1</td><td>1.1</td></tr><tr><th>3</th><td>37</td><td>7</td><td>1</td><td>0</td><td>2</td><td>0</td><td>226</td><td>0</td><td>1</td><td>1.1</td></tr><tr><th>4</th><td>40</td><td>0</td><td>1</td><td>0</td><td>0</td><td>0</td><td>151</td><td>0</td><td>1</td><td>1.1</td></tr><tr><th>5</th><td>56</td><td>7</td><td>1</td><td>0</td><td>0</td><td>2</td><td>307</td><td>0</td><td>1</td><td>1.1</td></tr><tr><th>6</th><td>45</td><td>7</td><td>1</td><td>1</td><td>0</td><td>0</td><td>198</td><td>0</td><td>1</td><td>1.1</td></tr><tr><th>7</th><td>59</td><td>0</td><td>1</td><td>0</td><td>0</td><td>0</td><td>139</td><td>0</td><td>1</td><td>1.1</td></tr><tr><th>8</th><td>41</td><td>1</td><td>1</td><td>1</td><td>0</td><td>0</td><td>217</td><td>0</td><td>1</td><td>1.1</td></tr><tr><th>9</th><td>24</td><td>9</td><td>2</td><td>0</td><td>2</td><td>0</td><td>380</td><td>0</td><td>1</td><td>1.1</td></tr><tr><th>10</th><td>25</td><td>7</td><td>2</td><td>0</td><td>2</td><td>0</td><td>50</td><td>0</td><td>1</td><td>1.1</td></tr><tr><th>11</th><td>41</td><td>1</td><td>1</td><td>1</td><td>0</td><td>0</td><td>55</td><td>0</td><td>1</td><td>1.1</td></tr><tr><th>12</th><td>25</td><td>7</td><td>2</td><td>0</td><td>2</td><td>0</td><td>222</td><td>0</td><td>1</td><td>1.1</td></tr><tr><th>13</th><td>29</td><td>1</td><td>2</td><td>0</td><td>0</td><td>2</td><td>137</td><td>0</td><td>1</td><td>1.1</td></tr><tr><th>14</th><td>57</td><td>3</td><td>0</td><td>0</td><td>2</td><td>0</td><td>293</td><td>0</td><td>1</td><td>1.1</td></tr><tr><th>15</th><td>35</td><td>1</td><td>1</td><td>0</td><td>2</td><td>0</td><td>146</td><td>0</td><td>1</td><td>1.1</td></tr><tr><th>16</th><td>54</td><td>5</td><td>1</td><td>1</td><td>2</td><td>2</td><td>174</td><td>0</td><td>1</td><td>1.1</td></tr><tr><th>17</th><td>35</td><td>1</td><td>1</td><td>0</td><td>2</td><td>0</td><td>312</td><td>0</td><td>1</td><td>1.1</td></tr><tr><th>18</th><td>46</td><td>1</td><td>1</td><td>1</td><td>2</td><td>2</td><td>440</td><td>0</td><td>1</td><td>1.1</td></tr><tr><th>19</th><td>50</td><td>1</td><td>1</td><td>0</td><td>2</td><td>2</td><td>353</td><td>0</td><td>1</td><td>1.1</td></tr><tr><th>20</th><td>39</td><td>4</td><td>2</td><td>1</td><td>0</td><td>0</td><td>195</td><td>0</td><td>1</td><td>1.1</td></tr><tr><th>21</th><td>30</td><td>10</td><td>1</td><td>0</td><td>0</td><td>0</td><td>38</td><td>0</td><td>1</td><td>1.1</td></tr><tr><th>22</th><td>55</td><td>1</td><td>1</td><td>1</td><td>2</td><td>0</td><td>262</td><td>0</td><td>1</td><td>1.1</td></tr><tr><th>23</th><td>55</td><td>5</td><td>2</td><td>0</td><td>2</td><td>0</td><td>342</td><td>0</td><td>1</td><td>1.1</td></tr><tr><th>24</th><td>41</td><td>9</td><td>2</td><td>0</td><td>2</td><td>0</td><td>181</td><td>0</td><td>1</td><td>1.1</td></tr><tr><th>25</th><td>37</td><td>0</td><td>1</td><td>0</td><td>2</td><td>0</td><td>172</td><td>0</td><td>1</td><td>1.1</td></tr><tr><th>26</th><td>35</td><td>9</td><td>1</td><td>0</td><td>0</td><td>2</td><td>99</td><td>0</td><td>1</td><td>1.1</td></tr><tr><th>27</th><td>59</td><td>9</td><td>1</td><td>0</td><td>2</td><td>0</td><td>93</td><td>0</td><td>1</td><td>1.1</td></tr><tr><th>28</th><td>39</td><td>6</td><td>1</td><td>1</td><td>0</td><td>0</td><td>233</td><td>0</td><td>1</td><td>1.1</td></tr><tr><th>29</th><td>54</td><td>9</td><td>2</td><td>1</td><td>0</td><td>0</td><td>255</td><td>0</td><td>1</td><td>1.1</td></tr><tr><th>30</th><td>55</td><td>11</td><td>1</td><td>1</td><td>1</td><td>1</td><td>362</td><td>0</td><td>1</td><td>1.1</td></tr><tr><th>&vellip;</th><td>&vellip;</td><td>&vellip;</td><td>&vellip;</td><td>&vellip;</td><td>&vellip;</td><td>&vellip;</td><td>&vellip;</td><td>&vellip;</td><td>&vellip;</td><td>&vellip;</td></tr></tbody></table>"
      ],
      "text/latex": [
       "\\begin{tabular}{r|ccccccccccc}\n",
       "\t& age & job & marital & default & housing & loan & duration & previous & poutcome & emp.var.rate & \\\\\n",
       "\t\\hline\n",
       "\t& Int64 & Int64 & Int64 & Int64 & Int64 & Int64 & Int64 & Int64 & Int64 & Float64 & \\\\\n",
       "\t\\hline\n",
       "\t1 & 56 & 3 & 1 & 0 & 0 & 0 & 261 & 0 & 1 & 1.1 & $\\dots$ \\\\\n",
       "\t2 & 57 & 7 & 1 & 1 & 0 & 0 & 149 & 0 & 1 & 1.1 & $\\dots$ \\\\\n",
       "\t3 & 37 & 7 & 1 & 0 & 2 & 0 & 226 & 0 & 1 & 1.1 & $\\dots$ \\\\\n",
       "\t4 & 40 & 0 & 1 & 0 & 0 & 0 & 151 & 0 & 1 & 1.1 & $\\dots$ \\\\\n",
       "\t5 & 56 & 7 & 1 & 0 & 0 & 2 & 307 & 0 & 1 & 1.1 & $\\dots$ \\\\\n",
       "\t6 & 45 & 7 & 1 & 1 & 0 & 0 & 198 & 0 & 1 & 1.1 & $\\dots$ \\\\\n",
       "\t7 & 59 & 0 & 1 & 0 & 0 & 0 & 139 & 0 & 1 & 1.1 & $\\dots$ \\\\\n",
       "\t8 & 41 & 1 & 1 & 1 & 0 & 0 & 217 & 0 & 1 & 1.1 & $\\dots$ \\\\\n",
       "\t9 & 24 & 9 & 2 & 0 & 2 & 0 & 380 & 0 & 1 & 1.1 & $\\dots$ \\\\\n",
       "\t10 & 25 & 7 & 2 & 0 & 2 & 0 & 50 & 0 & 1 & 1.1 & $\\dots$ \\\\\n",
       "\t11 & 41 & 1 & 1 & 1 & 0 & 0 & 55 & 0 & 1 & 1.1 & $\\dots$ \\\\\n",
       "\t12 & 25 & 7 & 2 & 0 & 2 & 0 & 222 & 0 & 1 & 1.1 & $\\dots$ \\\\\n",
       "\t13 & 29 & 1 & 2 & 0 & 0 & 2 & 137 & 0 & 1 & 1.1 & $\\dots$ \\\\\n",
       "\t14 & 57 & 3 & 0 & 0 & 2 & 0 & 293 & 0 & 1 & 1.1 & $\\dots$ \\\\\n",
       "\t15 & 35 & 1 & 1 & 0 & 2 & 0 & 146 & 0 & 1 & 1.1 & $\\dots$ \\\\\n",
       "\t16 & 54 & 5 & 1 & 1 & 2 & 2 & 174 & 0 & 1 & 1.1 & $\\dots$ \\\\\n",
       "\t17 & 35 & 1 & 1 & 0 & 2 & 0 & 312 & 0 & 1 & 1.1 & $\\dots$ \\\\\n",
       "\t18 & 46 & 1 & 1 & 1 & 2 & 2 & 440 & 0 & 1 & 1.1 & $\\dots$ \\\\\n",
       "\t19 & 50 & 1 & 1 & 0 & 2 & 2 & 353 & 0 & 1 & 1.1 & $\\dots$ \\\\\n",
       "\t20 & 39 & 4 & 2 & 1 & 0 & 0 & 195 & 0 & 1 & 1.1 & $\\dots$ \\\\\n",
       "\t21 & 30 & 10 & 1 & 0 & 0 & 0 & 38 & 0 & 1 & 1.1 & $\\dots$ \\\\\n",
       "\t22 & 55 & 1 & 1 & 1 & 2 & 0 & 262 & 0 & 1 & 1.1 & $\\dots$ \\\\\n",
       "\t23 & 55 & 5 & 2 & 0 & 2 & 0 & 342 & 0 & 1 & 1.1 & $\\dots$ \\\\\n",
       "\t24 & 41 & 9 & 2 & 0 & 2 & 0 & 181 & 0 & 1 & 1.1 & $\\dots$ \\\\\n",
       "\t25 & 37 & 0 & 1 & 0 & 2 & 0 & 172 & 0 & 1 & 1.1 & $\\dots$ \\\\\n",
       "\t26 & 35 & 9 & 1 & 0 & 0 & 2 & 99 & 0 & 1 & 1.1 & $\\dots$ \\\\\n",
       "\t27 & 59 & 9 & 1 & 0 & 2 & 0 & 93 & 0 & 1 & 1.1 & $\\dots$ \\\\\n",
       "\t28 & 39 & 6 & 1 & 1 & 0 & 0 & 233 & 0 & 1 & 1.1 & $\\dots$ \\\\\n",
       "\t29 & 54 & 9 & 2 & 1 & 0 & 0 & 255 & 0 & 1 & 1.1 & $\\dots$ \\\\\n",
       "\t30 & 55 & 11 & 1 & 1 & 1 & 1 & 362 & 0 & 1 & 1.1 & $\\dots$ \\\\\n",
       "\t$\\dots$ & $\\dots$ & $\\dots$ & $\\dots$ & $\\dots$ & $\\dots$ & $\\dots$ & $\\dots$ & $\\dots$ & $\\dots$ & $\\dots$ &  \\\\\n",
       "\\end{tabular}\n"
      ],
      "text/plain": [
       "41188×11 DataFrame. Omitted printing of 4 columns\n",
       "│ Row   │ age   │ job   │ marital │ default │ housing │ loan  │ duration │\n",
       "│       │ \u001b[90mInt64\u001b[39m │ \u001b[90mInt64\u001b[39m │ \u001b[90mInt64\u001b[39m   │ \u001b[90mInt64\u001b[39m   │ \u001b[90mInt64\u001b[39m   │ \u001b[90mInt64\u001b[39m │ \u001b[90mInt64\u001b[39m    │\n",
       "├───────┼───────┼───────┼─────────┼─────────┼─────────┼───────┼──────────┤\n",
       "│ 1     │ 56    │ 3     │ 1       │ 0       │ 0       │ 0     │ 261      │\n",
       "│ 2     │ 57    │ 7     │ 1       │ 1       │ 0       │ 0     │ 149      │\n",
       "│ 3     │ 37    │ 7     │ 1       │ 0       │ 2       │ 0     │ 226      │\n",
       "│ 4     │ 40    │ 0     │ 1       │ 0       │ 0       │ 0     │ 151      │\n",
       "│ 5     │ 56    │ 7     │ 1       │ 0       │ 0       │ 2     │ 307      │\n",
       "│ 6     │ 45    │ 7     │ 1       │ 1       │ 0       │ 0     │ 198      │\n",
       "│ 7     │ 59    │ 0     │ 1       │ 0       │ 0       │ 0     │ 139      │\n",
       "│ 8     │ 41    │ 1     │ 1       │ 1       │ 0       │ 0     │ 217      │\n",
       "│ 9     │ 24    │ 9     │ 2       │ 0       │ 2       │ 0     │ 380      │\n",
       "│ 10    │ 25    │ 7     │ 2       │ 0       │ 2       │ 0     │ 50       │\n",
       "⋮\n",
       "│ 41178 │ 57    │ 5     │ 1       │ 0       │ 2       │ 0     │ 124      │\n",
       "│ 41179 │ 62    │ 5     │ 1       │ 0       │ 0       │ 0     │ 483      │\n",
       "│ 41180 │ 64    │ 5     │ 0       │ 0       │ 2       │ 0     │ 151      │\n",
       "│ 41181 │ 36    │ 0     │ 1       │ 0       │ 0       │ 0     │ 254      │\n",
       "│ 41182 │ 37    │ 0     │ 1       │ 0       │ 2       │ 0     │ 281      │\n",
       "│ 41183 │ 29    │ 10    │ 2       │ 0       │ 2       │ 0     │ 112      │\n",
       "│ 41184 │ 73    │ 5     │ 1       │ 0       │ 2       │ 0     │ 334      │\n",
       "│ 41185 │ 46    │ 1     │ 1       │ 0       │ 0       │ 0     │ 383      │\n",
       "│ 41186 │ 56    │ 5     │ 1       │ 0       │ 2       │ 0     │ 189      │\n",
       "│ 41187 │ 44    │ 9     │ 1       │ 0       │ 0       │ 0     │ 442      │\n",
       "│ 41188 │ 74    │ 5     │ 1       │ 0       │ 2       │ 0     │ 239      │"
      ]
     },
     "execution_count": 27,
     "metadata": {},
     "output_type": "execute_result"
    }
   ],
   "source": [
    "#In order to see if the bank get its clients to place a term deposit, 10 critical columns are selected.\n",
    "\n",
    "#Namely age, duration, previous, emp.var.rate, housing, default, loan, poutcome, job and marital\n",
    "\n",
    "new_data=dummy[:, [1, 2, 3, 5, 6, 7, 11, 14, 15, 16, 21]]"
   ]
  },
  {
   "cell_type": "code",
   "execution_count": 28,
   "metadata": {},
   "outputs": [
    {
     "data": {
      "text/html": [
       "<table class=\"data-frame\"><thead><tr><th></th><th>age</th><th>job</th><th>marital</th><th>default</th><th>housing</th><th>loan</th><th>duration</th><th>previous</th><th>poutcome</th><th>emp.var.rate</th></tr><tr><th></th><th>Int64</th><th>Int64</th><th>Int64</th><th>Int64</th><th>Int64</th><th>Int64</th><th>Int64</th><th>Int64</th><th>Int64</th><th>Float64</th></tr></thead><tbody><p>10 rows × 11 columns (omitted printing of 1 columns)</p><tr><th>1</th><td>56</td><td>3</td><td>1</td><td>0</td><td>0</td><td>0</td><td>261</td><td>0</td><td>1</td><td>1.1</td></tr><tr><th>2</th><td>57</td><td>7</td><td>1</td><td>1</td><td>0</td><td>0</td><td>149</td><td>0</td><td>1</td><td>1.1</td></tr><tr><th>3</th><td>37</td><td>7</td><td>1</td><td>0</td><td>2</td><td>0</td><td>226</td><td>0</td><td>1</td><td>1.1</td></tr><tr><th>4</th><td>40</td><td>0</td><td>1</td><td>0</td><td>0</td><td>0</td><td>151</td><td>0</td><td>1</td><td>1.1</td></tr><tr><th>5</th><td>56</td><td>7</td><td>1</td><td>0</td><td>0</td><td>2</td><td>307</td><td>0</td><td>1</td><td>1.1</td></tr><tr><th>6</th><td>45</td><td>7</td><td>1</td><td>1</td><td>0</td><td>0</td><td>198</td><td>0</td><td>1</td><td>1.1</td></tr><tr><th>7</th><td>59</td><td>0</td><td>1</td><td>0</td><td>0</td><td>0</td><td>139</td><td>0</td><td>1</td><td>1.1</td></tr><tr><th>8</th><td>41</td><td>1</td><td>1</td><td>1</td><td>0</td><td>0</td><td>217</td><td>0</td><td>1</td><td>1.1</td></tr><tr><th>9</th><td>24</td><td>9</td><td>2</td><td>0</td><td>2</td><td>0</td><td>380</td><td>0</td><td>1</td><td>1.1</td></tr><tr><th>10</th><td>25</td><td>7</td><td>2</td><td>0</td><td>2</td><td>0</td><td>50</td><td>0</td><td>1</td><td>1.1</td></tr></tbody></table>"
      ],
      "text/latex": [
       "\\begin{tabular}{r|ccccccccccc}\n",
       "\t& age & job & marital & default & housing & loan & duration & previous & poutcome & emp.var.rate & \\\\\n",
       "\t\\hline\n",
       "\t& Int64 & Int64 & Int64 & Int64 & Int64 & Int64 & Int64 & Int64 & Int64 & Float64 & \\\\\n",
       "\t\\hline\n",
       "\t1 & 56 & 3 & 1 & 0 & 0 & 0 & 261 & 0 & 1 & 1.1 & $\\dots$ \\\\\n",
       "\t2 & 57 & 7 & 1 & 1 & 0 & 0 & 149 & 0 & 1 & 1.1 & $\\dots$ \\\\\n",
       "\t3 & 37 & 7 & 1 & 0 & 2 & 0 & 226 & 0 & 1 & 1.1 & $\\dots$ \\\\\n",
       "\t4 & 40 & 0 & 1 & 0 & 0 & 0 & 151 & 0 & 1 & 1.1 & $\\dots$ \\\\\n",
       "\t5 & 56 & 7 & 1 & 0 & 0 & 2 & 307 & 0 & 1 & 1.1 & $\\dots$ \\\\\n",
       "\t6 & 45 & 7 & 1 & 1 & 0 & 0 & 198 & 0 & 1 & 1.1 & $\\dots$ \\\\\n",
       "\t7 & 59 & 0 & 1 & 0 & 0 & 0 & 139 & 0 & 1 & 1.1 & $\\dots$ \\\\\n",
       "\t8 & 41 & 1 & 1 & 1 & 0 & 0 & 217 & 0 & 1 & 1.1 & $\\dots$ \\\\\n",
       "\t9 & 24 & 9 & 2 & 0 & 2 & 0 & 380 & 0 & 1 & 1.1 & $\\dots$ \\\\\n",
       "\t10 & 25 & 7 & 2 & 0 & 2 & 0 & 50 & 0 & 1 & 1.1 & $\\dots$ \\\\\n",
       "\\end{tabular}\n"
      ],
      "text/plain": [
       "10×11 DataFrame. Omitted printing of 4 columns\n",
       "│ Row │ age   │ job   │ marital │ default │ housing │ loan  │ duration │\n",
       "│     │ \u001b[90mInt64\u001b[39m │ \u001b[90mInt64\u001b[39m │ \u001b[90mInt64\u001b[39m   │ \u001b[90mInt64\u001b[39m   │ \u001b[90mInt64\u001b[39m   │ \u001b[90mInt64\u001b[39m │ \u001b[90mInt64\u001b[39m    │\n",
       "├─────┼───────┼───────┼─────────┼─────────┼─────────┼───────┼──────────┤\n",
       "│ 1   │ 56    │ 3     │ 1       │ 0       │ 0       │ 0     │ 261      │\n",
       "│ 2   │ 57    │ 7     │ 1       │ 1       │ 0       │ 0     │ 149      │\n",
       "│ 3   │ 37    │ 7     │ 1       │ 0       │ 2       │ 0     │ 226      │\n",
       "│ 4   │ 40    │ 0     │ 1       │ 0       │ 0       │ 0     │ 151      │\n",
       "│ 5   │ 56    │ 7     │ 1       │ 0       │ 0       │ 2     │ 307      │\n",
       "│ 6   │ 45    │ 7     │ 1       │ 1       │ 0       │ 0     │ 198      │\n",
       "│ 7   │ 59    │ 0     │ 1       │ 0       │ 0       │ 0     │ 139      │\n",
       "│ 8   │ 41    │ 1     │ 1       │ 1       │ 0       │ 0     │ 217      │\n",
       "│ 9   │ 24    │ 9     │ 2       │ 0       │ 2       │ 0     │ 380      │\n",
       "│ 10  │ 25    │ 7     │ 2       │ 0       │ 2       │ 0     │ 50       │"
      ]
     },
     "execution_count": 28,
     "metadata": {},
     "output_type": "execute_result"
    }
   ],
   "source": [
    "#showing the first 10 rows\n",
    "\n",
    "first(new_data, 10)"
   ]
  },
  {
   "cell_type": "code",
   "execution_count": 29,
   "metadata": {},
   "outputs": [
    {
     "data": {
      "text/html": [
       "<table class=\"data-frame\"><thead><tr><th></th><th>age</th><th>job</th><th>marital</th><th>default</th><th>housing</th><th>loan</th><th>duration</th><th>previous</th><th>poutcome</th><th>emp.var.rate</th></tr><tr><th></th><th>Int64</th><th>Int64</th><th>Int64</th><th>Int64</th><th>Int64</th><th>Int64</th><th>Int64</th><th>Int64</th><th>Int64</th><th>Float64</th></tr></thead><tbody><p>10 rows × 11 columns (omitted printing of 1 columns)</p><tr><th>1</th><td>62</td><td>5</td><td>1</td><td>0</td><td>0</td><td>0</td><td>483</td><td>3</td><td>2</td><td>-1.1</td></tr><tr><th>2</th><td>64</td><td>5</td><td>0</td><td>0</td><td>2</td><td>0</td><td>151</td><td>0</td><td>1</td><td>-1.1</td></tr><tr><th>3</th><td>36</td><td>0</td><td>1</td><td>0</td><td>0</td><td>0</td><td>254</td><td>0</td><td>1</td><td>-1.1</td></tr><tr><th>4</th><td>37</td><td>0</td><td>1</td><td>0</td><td>2</td><td>0</td><td>281</td><td>0</td><td>1</td><td>-1.1</td></tr><tr><th>5</th><td>29</td><td>10</td><td>2</td><td>0</td><td>2</td><td>0</td><td>112</td><td>1</td><td>2</td><td>-1.1</td></tr><tr><th>6</th><td>73</td><td>5</td><td>1</td><td>0</td><td>2</td><td>0</td><td>334</td><td>0</td><td>1</td><td>-1.1</td></tr><tr><th>7</th><td>46</td><td>1</td><td>1</td><td>0</td><td>0</td><td>0</td><td>383</td><td>0</td><td>1</td><td>-1.1</td></tr><tr><th>8</th><td>56</td><td>5</td><td>1</td><td>0</td><td>2</td><td>0</td><td>189</td><td>0</td><td>1</td><td>-1.1</td></tr><tr><th>9</th><td>44</td><td>9</td><td>1</td><td>0</td><td>0</td><td>0</td><td>442</td><td>0</td><td>1</td><td>-1.1</td></tr><tr><th>10</th><td>74</td><td>5</td><td>1</td><td>0</td><td>2</td><td>0</td><td>239</td><td>1</td><td>0</td><td>-1.1</td></tr></tbody></table>"
      ],
      "text/latex": [
       "\\begin{tabular}{r|ccccccccccc}\n",
       "\t& age & job & marital & default & housing & loan & duration & previous & poutcome & emp.var.rate & \\\\\n",
       "\t\\hline\n",
       "\t& Int64 & Int64 & Int64 & Int64 & Int64 & Int64 & Int64 & Int64 & Int64 & Float64 & \\\\\n",
       "\t\\hline\n",
       "\t1 & 62 & 5 & 1 & 0 & 0 & 0 & 483 & 3 & 2 & -1.1 & $\\dots$ \\\\\n",
       "\t2 & 64 & 5 & 0 & 0 & 2 & 0 & 151 & 0 & 1 & -1.1 & $\\dots$ \\\\\n",
       "\t3 & 36 & 0 & 1 & 0 & 0 & 0 & 254 & 0 & 1 & -1.1 & $\\dots$ \\\\\n",
       "\t4 & 37 & 0 & 1 & 0 & 2 & 0 & 281 & 0 & 1 & -1.1 & $\\dots$ \\\\\n",
       "\t5 & 29 & 10 & 2 & 0 & 2 & 0 & 112 & 1 & 2 & -1.1 & $\\dots$ \\\\\n",
       "\t6 & 73 & 5 & 1 & 0 & 2 & 0 & 334 & 0 & 1 & -1.1 & $\\dots$ \\\\\n",
       "\t7 & 46 & 1 & 1 & 0 & 0 & 0 & 383 & 0 & 1 & -1.1 & $\\dots$ \\\\\n",
       "\t8 & 56 & 5 & 1 & 0 & 2 & 0 & 189 & 0 & 1 & -1.1 & $\\dots$ \\\\\n",
       "\t9 & 44 & 9 & 1 & 0 & 0 & 0 & 442 & 0 & 1 & -1.1 & $\\dots$ \\\\\n",
       "\t10 & 74 & 5 & 1 & 0 & 2 & 0 & 239 & 1 & 0 & -1.1 & $\\dots$ \\\\\n",
       "\\end{tabular}\n"
      ],
      "text/plain": [
       "10×11 DataFrame. Omitted printing of 4 columns\n",
       "│ Row │ age   │ job   │ marital │ default │ housing │ loan  │ duration │\n",
       "│     │ \u001b[90mInt64\u001b[39m │ \u001b[90mInt64\u001b[39m │ \u001b[90mInt64\u001b[39m   │ \u001b[90mInt64\u001b[39m   │ \u001b[90mInt64\u001b[39m   │ \u001b[90mInt64\u001b[39m │ \u001b[90mInt64\u001b[39m    │\n",
       "├─────┼───────┼───────┼─────────┼─────────┼─────────┼───────┼──────────┤\n",
       "│ 1   │ 62    │ 5     │ 1       │ 0       │ 0       │ 0     │ 483      │\n",
       "│ 2   │ 64    │ 5     │ 0       │ 0       │ 2       │ 0     │ 151      │\n",
       "│ 3   │ 36    │ 0     │ 1       │ 0       │ 0       │ 0     │ 254      │\n",
       "│ 4   │ 37    │ 0     │ 1       │ 0       │ 2       │ 0     │ 281      │\n",
       "│ 5   │ 29    │ 10    │ 2       │ 0       │ 2       │ 0     │ 112      │\n",
       "│ 6   │ 73    │ 5     │ 1       │ 0       │ 2       │ 0     │ 334      │\n",
       "│ 7   │ 46    │ 1     │ 1       │ 0       │ 0       │ 0     │ 383      │\n",
       "│ 8   │ 56    │ 5     │ 1       │ 0       │ 2       │ 0     │ 189      │\n",
       "│ 9   │ 44    │ 9     │ 1       │ 0       │ 0       │ 0     │ 442      │\n",
       "│ 10  │ 74    │ 5     │ 1       │ 0       │ 2       │ 0     │ 239      │"
      ]
     },
     "execution_count": 29,
     "metadata": {},
     "output_type": "execute_result"
    }
   ],
   "source": [
    "#showing the last 10 rows\n",
    "\n",
    "last(new_data, 10)"
   ]
  },
  {
   "cell_type": "code",
   "execution_count": 30,
   "metadata": {},
   "outputs": [
    {
     "name": "stderr",
     "output_type": "stream",
     "text": [
      "┌ Warning: `getindex(df::DataFrame, col_inds::Union{AbstractVector, Regex, Not})` is deprecated, use `df[:, col_inds]` instead.\n",
      "│   caller = top-level scope at In[30]:1\n",
      "└ @ Core In[30]:1\n"
     ]
    },
    {
     "data": {
      "text/html": [
       "<table class=\"data-frame\"><thead><tr><th></th><th>age</th><th>job</th><th>marital</th><th>default</th><th>housing</th><th>loan</th><th>duration</th><th>previous</th><th>poutcome</th><th>emp.var.rate</th></tr><tr><th></th><th>Int64</th><th>Int64</th><th>Int64</th><th>Int64</th><th>Int64</th><th>Int64</th><th>Int64</th><th>Int64</th><th>Int64</th><th>Float64</th></tr></thead><tbody><p>41,188 rows × 10 columns</p><tr><th>1</th><td>56</td><td>3</td><td>1</td><td>0</td><td>0</td><td>0</td><td>261</td><td>0</td><td>1</td><td>1.1</td></tr><tr><th>2</th><td>57</td><td>7</td><td>1</td><td>1</td><td>0</td><td>0</td><td>149</td><td>0</td><td>1</td><td>1.1</td></tr><tr><th>3</th><td>37</td><td>7</td><td>1</td><td>0</td><td>2</td><td>0</td><td>226</td><td>0</td><td>1</td><td>1.1</td></tr><tr><th>4</th><td>40</td><td>0</td><td>1</td><td>0</td><td>0</td><td>0</td><td>151</td><td>0</td><td>1</td><td>1.1</td></tr><tr><th>5</th><td>56</td><td>7</td><td>1</td><td>0</td><td>0</td><td>2</td><td>307</td><td>0</td><td>1</td><td>1.1</td></tr><tr><th>6</th><td>45</td><td>7</td><td>1</td><td>1</td><td>0</td><td>0</td><td>198</td><td>0</td><td>1</td><td>1.1</td></tr><tr><th>7</th><td>59</td><td>0</td><td>1</td><td>0</td><td>0</td><td>0</td><td>139</td><td>0</td><td>1</td><td>1.1</td></tr><tr><th>8</th><td>41</td><td>1</td><td>1</td><td>1</td><td>0</td><td>0</td><td>217</td><td>0</td><td>1</td><td>1.1</td></tr><tr><th>9</th><td>24</td><td>9</td><td>2</td><td>0</td><td>2</td><td>0</td><td>380</td><td>0</td><td>1</td><td>1.1</td></tr><tr><th>10</th><td>25</td><td>7</td><td>2</td><td>0</td><td>2</td><td>0</td><td>50</td><td>0</td><td>1</td><td>1.1</td></tr><tr><th>11</th><td>41</td><td>1</td><td>1</td><td>1</td><td>0</td><td>0</td><td>55</td><td>0</td><td>1</td><td>1.1</td></tr><tr><th>12</th><td>25</td><td>7</td><td>2</td><td>0</td><td>2</td><td>0</td><td>222</td><td>0</td><td>1</td><td>1.1</td></tr><tr><th>13</th><td>29</td><td>1</td><td>2</td><td>0</td><td>0</td><td>2</td><td>137</td><td>0</td><td>1</td><td>1.1</td></tr><tr><th>14</th><td>57</td><td>3</td><td>0</td><td>0</td><td>2</td><td>0</td><td>293</td><td>0</td><td>1</td><td>1.1</td></tr><tr><th>15</th><td>35</td><td>1</td><td>1</td><td>0</td><td>2</td><td>0</td><td>146</td><td>0</td><td>1</td><td>1.1</td></tr><tr><th>16</th><td>54</td><td>5</td><td>1</td><td>1</td><td>2</td><td>2</td><td>174</td><td>0</td><td>1</td><td>1.1</td></tr><tr><th>17</th><td>35</td><td>1</td><td>1</td><td>0</td><td>2</td><td>0</td><td>312</td><td>0</td><td>1</td><td>1.1</td></tr><tr><th>18</th><td>46</td><td>1</td><td>1</td><td>1</td><td>2</td><td>2</td><td>440</td><td>0</td><td>1</td><td>1.1</td></tr><tr><th>19</th><td>50</td><td>1</td><td>1</td><td>0</td><td>2</td><td>2</td><td>353</td><td>0</td><td>1</td><td>1.1</td></tr><tr><th>20</th><td>39</td><td>4</td><td>2</td><td>1</td><td>0</td><td>0</td><td>195</td><td>0</td><td>1</td><td>1.1</td></tr><tr><th>21</th><td>30</td><td>10</td><td>1</td><td>0</td><td>0</td><td>0</td><td>38</td><td>0</td><td>1</td><td>1.1</td></tr><tr><th>22</th><td>55</td><td>1</td><td>1</td><td>1</td><td>2</td><td>0</td><td>262</td><td>0</td><td>1</td><td>1.1</td></tr><tr><th>23</th><td>55</td><td>5</td><td>2</td><td>0</td><td>2</td><td>0</td><td>342</td><td>0</td><td>1</td><td>1.1</td></tr><tr><th>24</th><td>41</td><td>9</td><td>2</td><td>0</td><td>2</td><td>0</td><td>181</td><td>0</td><td>1</td><td>1.1</td></tr><tr><th>25</th><td>37</td><td>0</td><td>1</td><td>0</td><td>2</td><td>0</td><td>172</td><td>0</td><td>1</td><td>1.1</td></tr><tr><th>26</th><td>35</td><td>9</td><td>1</td><td>0</td><td>0</td><td>2</td><td>99</td><td>0</td><td>1</td><td>1.1</td></tr><tr><th>27</th><td>59</td><td>9</td><td>1</td><td>0</td><td>2</td><td>0</td><td>93</td><td>0</td><td>1</td><td>1.1</td></tr><tr><th>28</th><td>39</td><td>6</td><td>1</td><td>1</td><td>0</td><td>0</td><td>233</td><td>0</td><td>1</td><td>1.1</td></tr><tr><th>29</th><td>54</td><td>9</td><td>2</td><td>1</td><td>0</td><td>0</td><td>255</td><td>0</td><td>1</td><td>1.1</td></tr><tr><th>30</th><td>55</td><td>11</td><td>1</td><td>1</td><td>1</td><td>1</td><td>362</td><td>0</td><td>1</td><td>1.1</td></tr><tr><th>&vellip;</th><td>&vellip;</td><td>&vellip;</td><td>&vellip;</td><td>&vellip;</td><td>&vellip;</td><td>&vellip;</td><td>&vellip;</td><td>&vellip;</td><td>&vellip;</td><td>&vellip;</td></tr></tbody></table>"
      ],
      "text/latex": [
       "\\begin{tabular}{r|cccccccccc}\n",
       "\t& age & job & marital & default & housing & loan & duration & previous & poutcome & emp.var.rate\\\\\n",
       "\t\\hline\n",
       "\t& Int64 & Int64 & Int64 & Int64 & Int64 & Int64 & Int64 & Int64 & Int64 & Float64\\\\\n",
       "\t\\hline\n",
       "\t1 & 56 & 3 & 1 & 0 & 0 & 0 & 261 & 0 & 1 & 1.1 \\\\\n",
       "\t2 & 57 & 7 & 1 & 1 & 0 & 0 & 149 & 0 & 1 & 1.1 \\\\\n",
       "\t3 & 37 & 7 & 1 & 0 & 2 & 0 & 226 & 0 & 1 & 1.1 \\\\\n",
       "\t4 & 40 & 0 & 1 & 0 & 0 & 0 & 151 & 0 & 1 & 1.1 \\\\\n",
       "\t5 & 56 & 7 & 1 & 0 & 0 & 2 & 307 & 0 & 1 & 1.1 \\\\\n",
       "\t6 & 45 & 7 & 1 & 1 & 0 & 0 & 198 & 0 & 1 & 1.1 \\\\\n",
       "\t7 & 59 & 0 & 1 & 0 & 0 & 0 & 139 & 0 & 1 & 1.1 \\\\\n",
       "\t8 & 41 & 1 & 1 & 1 & 0 & 0 & 217 & 0 & 1 & 1.1 \\\\\n",
       "\t9 & 24 & 9 & 2 & 0 & 2 & 0 & 380 & 0 & 1 & 1.1 \\\\\n",
       "\t10 & 25 & 7 & 2 & 0 & 2 & 0 & 50 & 0 & 1 & 1.1 \\\\\n",
       "\t11 & 41 & 1 & 1 & 1 & 0 & 0 & 55 & 0 & 1 & 1.1 \\\\\n",
       "\t12 & 25 & 7 & 2 & 0 & 2 & 0 & 222 & 0 & 1 & 1.1 \\\\\n",
       "\t13 & 29 & 1 & 2 & 0 & 0 & 2 & 137 & 0 & 1 & 1.1 \\\\\n",
       "\t14 & 57 & 3 & 0 & 0 & 2 & 0 & 293 & 0 & 1 & 1.1 \\\\\n",
       "\t15 & 35 & 1 & 1 & 0 & 2 & 0 & 146 & 0 & 1 & 1.1 \\\\\n",
       "\t16 & 54 & 5 & 1 & 1 & 2 & 2 & 174 & 0 & 1 & 1.1 \\\\\n",
       "\t17 & 35 & 1 & 1 & 0 & 2 & 0 & 312 & 0 & 1 & 1.1 \\\\\n",
       "\t18 & 46 & 1 & 1 & 1 & 2 & 2 & 440 & 0 & 1 & 1.1 \\\\\n",
       "\t19 & 50 & 1 & 1 & 0 & 2 & 2 & 353 & 0 & 1 & 1.1 \\\\\n",
       "\t20 & 39 & 4 & 2 & 1 & 0 & 0 & 195 & 0 & 1 & 1.1 \\\\\n",
       "\t21 & 30 & 10 & 1 & 0 & 0 & 0 & 38 & 0 & 1 & 1.1 \\\\\n",
       "\t22 & 55 & 1 & 1 & 1 & 2 & 0 & 262 & 0 & 1 & 1.1 \\\\\n",
       "\t23 & 55 & 5 & 2 & 0 & 2 & 0 & 342 & 0 & 1 & 1.1 \\\\\n",
       "\t24 & 41 & 9 & 2 & 0 & 2 & 0 & 181 & 0 & 1 & 1.1 \\\\\n",
       "\t25 & 37 & 0 & 1 & 0 & 2 & 0 & 172 & 0 & 1 & 1.1 \\\\\n",
       "\t26 & 35 & 9 & 1 & 0 & 0 & 2 & 99 & 0 & 1 & 1.1 \\\\\n",
       "\t27 & 59 & 9 & 1 & 0 & 2 & 0 & 93 & 0 & 1 & 1.1 \\\\\n",
       "\t28 & 39 & 6 & 1 & 1 & 0 & 0 & 233 & 0 & 1 & 1.1 \\\\\n",
       "\t29 & 54 & 9 & 2 & 1 & 0 & 0 & 255 & 0 & 1 & 1.1 \\\\\n",
       "\t30 & 55 & 11 & 1 & 1 & 1 & 1 & 362 & 0 & 1 & 1.1 \\\\\n",
       "\t$\\dots$ & $\\dots$ & $\\dots$ & $\\dots$ & $\\dots$ & $\\dots$ & $\\dots$ & $\\dots$ & $\\dots$ & $\\dots$ & $\\dots$ \\\\\n",
       "\\end{tabular}\n"
      ],
      "text/plain": [
       "41188×10 DataFrame. Omitted printing of 3 columns\n",
       "│ Row   │ age   │ job   │ marital │ default │ housing │ loan  │ duration │\n",
       "│       │ \u001b[90mInt64\u001b[39m │ \u001b[90mInt64\u001b[39m │ \u001b[90mInt64\u001b[39m   │ \u001b[90mInt64\u001b[39m   │ \u001b[90mInt64\u001b[39m   │ \u001b[90mInt64\u001b[39m │ \u001b[90mInt64\u001b[39m    │\n",
       "├───────┼───────┼───────┼─────────┼─────────┼─────────┼───────┼──────────┤\n",
       "│ 1     │ 56    │ 3     │ 1       │ 0       │ 0       │ 0     │ 261      │\n",
       "│ 2     │ 57    │ 7     │ 1       │ 1       │ 0       │ 0     │ 149      │\n",
       "│ 3     │ 37    │ 7     │ 1       │ 0       │ 2       │ 0     │ 226      │\n",
       "│ 4     │ 40    │ 0     │ 1       │ 0       │ 0       │ 0     │ 151      │\n",
       "│ 5     │ 56    │ 7     │ 1       │ 0       │ 0       │ 2     │ 307      │\n",
       "│ 6     │ 45    │ 7     │ 1       │ 1       │ 0       │ 0     │ 198      │\n",
       "│ 7     │ 59    │ 0     │ 1       │ 0       │ 0       │ 0     │ 139      │\n",
       "│ 8     │ 41    │ 1     │ 1       │ 1       │ 0       │ 0     │ 217      │\n",
       "│ 9     │ 24    │ 9     │ 2       │ 0       │ 2       │ 0     │ 380      │\n",
       "│ 10    │ 25    │ 7     │ 2       │ 0       │ 2       │ 0     │ 50       │\n",
       "⋮\n",
       "│ 41178 │ 57    │ 5     │ 1       │ 0       │ 2       │ 0     │ 124      │\n",
       "│ 41179 │ 62    │ 5     │ 1       │ 0       │ 0       │ 0     │ 483      │\n",
       "│ 41180 │ 64    │ 5     │ 0       │ 0       │ 2       │ 0     │ 151      │\n",
       "│ 41181 │ 36    │ 0     │ 1       │ 0       │ 0       │ 0     │ 254      │\n",
       "│ 41182 │ 37    │ 0     │ 1       │ 0       │ 2       │ 0     │ 281      │\n",
       "│ 41183 │ 29    │ 10    │ 2       │ 0       │ 2       │ 0     │ 112      │\n",
       "│ 41184 │ 73    │ 5     │ 1       │ 0       │ 2       │ 0     │ 334      │\n",
       "│ 41185 │ 46    │ 1     │ 1       │ 0       │ 0       │ 0     │ 383      │\n",
       "│ 41186 │ 56    │ 5     │ 1       │ 0       │ 2       │ 0     │ 189      │\n",
       "│ 41187 │ 44    │ 9     │ 1       │ 0       │ 0       │ 0     │ 442      │\n",
       "│ 41188 │ 74    │ 5     │ 1       │ 0       │ 2       │ 0     │ 239      │"
      ]
     },
     "execution_count": 30,
     "metadata": {},
     "output_type": "execute_result"
    }
   ],
   "source": [
    "#Spliting the data set on x and y\n",
    "\n",
    "#showing X value, y is exluded\n",
    "\n",
    "\n",
    "X=new_data[[:age, :job, :marital, :default, :housing, :loan, :duration, :previous, :poutcome,  Symbol(\"emp.var.rate\") ]]\n"
   ]
  },
  {
   "cell_type": "code",
   "execution_count": 31,
   "metadata": {},
   "outputs": [
    {
     "name": "stderr",
     "output_type": "stream",
     "text": [
      "┌ Warning: `getindex(df::DataFrame, col_inds::Union{AbstractVector, Regex, Not})` is deprecated, use `df[:, col_inds]` instead.\n",
      "│   caller = top-level scope at In[31]:1\n",
      "└ @ Core In[31]:1\n"
     ]
    },
    {
     "data": {
      "text/html": [
       "<table class=\"data-frame\"><thead><tr><th></th><th>y</th></tr><tr><th></th><th>Int64</th></tr></thead><tbody><p>41,188 rows × 1 columns</p><tr><th>1</th><td>0</td></tr><tr><th>2</th><td>0</td></tr><tr><th>3</th><td>0</td></tr><tr><th>4</th><td>0</td></tr><tr><th>5</th><td>0</td></tr><tr><th>6</th><td>0</td></tr><tr><th>7</th><td>0</td></tr><tr><th>8</th><td>0</td></tr><tr><th>9</th><td>0</td></tr><tr><th>10</th><td>0</td></tr><tr><th>11</th><td>0</td></tr><tr><th>12</th><td>0</td></tr><tr><th>13</th><td>0</td></tr><tr><th>14</th><td>0</td></tr><tr><th>15</th><td>0</td></tr><tr><th>16</th><td>0</td></tr><tr><th>17</th><td>0</td></tr><tr><th>18</th><td>0</td></tr><tr><th>19</th><td>0</td></tr><tr><th>20</th><td>0</td></tr><tr><th>21</th><td>0</td></tr><tr><th>22</th><td>0</td></tr><tr><th>23</th><td>0</td></tr><tr><th>24</th><td>0</td></tr><tr><th>25</th><td>0</td></tr><tr><th>26</th><td>0</td></tr><tr><th>27</th><td>0</td></tr><tr><th>28</th><td>0</td></tr><tr><th>29</th><td>0</td></tr><tr><th>30</th><td>0</td></tr><tr><th>&vellip;</th><td>&vellip;</td></tr></tbody></table>"
      ],
      "text/latex": [
       "\\begin{tabular}{r|c}\n",
       "\t& y\\\\\n",
       "\t\\hline\n",
       "\t& Int64\\\\\n",
       "\t\\hline\n",
       "\t1 & 0 \\\\\n",
       "\t2 & 0 \\\\\n",
       "\t3 & 0 \\\\\n",
       "\t4 & 0 \\\\\n",
       "\t5 & 0 \\\\\n",
       "\t6 & 0 \\\\\n",
       "\t7 & 0 \\\\\n",
       "\t8 & 0 \\\\\n",
       "\t9 & 0 \\\\\n",
       "\t10 & 0 \\\\\n",
       "\t11 & 0 \\\\\n",
       "\t12 & 0 \\\\\n",
       "\t13 & 0 \\\\\n",
       "\t14 & 0 \\\\\n",
       "\t15 & 0 \\\\\n",
       "\t16 & 0 \\\\\n",
       "\t17 & 0 \\\\\n",
       "\t18 & 0 \\\\\n",
       "\t19 & 0 \\\\\n",
       "\t20 & 0 \\\\\n",
       "\t21 & 0 \\\\\n",
       "\t22 & 0 \\\\\n",
       "\t23 & 0 \\\\\n",
       "\t24 & 0 \\\\\n",
       "\t25 & 0 \\\\\n",
       "\t26 & 0 \\\\\n",
       "\t27 & 0 \\\\\n",
       "\t28 & 0 \\\\\n",
       "\t29 & 0 \\\\\n",
       "\t30 & 0 \\\\\n",
       "\t$\\dots$ & $\\dots$ \\\\\n",
       "\\end{tabular}\n"
      ],
      "text/plain": [
       "41188×1 DataFrame\n",
       "│ Row   │ y     │\n",
       "│       │ \u001b[90mInt64\u001b[39m │\n",
       "├───────┼───────┤\n",
       "│ 1     │ 0     │\n",
       "│ 2     │ 0     │\n",
       "│ 3     │ 0     │\n",
       "│ 4     │ 0     │\n",
       "│ 5     │ 0     │\n",
       "│ 6     │ 0     │\n",
       "│ 7     │ 0     │\n",
       "│ 8     │ 0     │\n",
       "│ 9     │ 0     │\n",
       "│ 10    │ 0     │\n",
       "⋮\n",
       "│ 41178 │ 0     │\n",
       "│ 41179 │ 1     │\n",
       "│ 41180 │ 0     │\n",
       "│ 41181 │ 0     │\n",
       "│ 41182 │ 1     │\n",
       "│ 41183 │ 0     │\n",
       "│ 41184 │ 1     │\n",
       "│ 41185 │ 0     │\n",
       "│ 41186 │ 0     │\n",
       "│ 41187 │ 1     │\n",
       "│ 41188 │ 0     │"
      ]
     },
     "execution_count": 31,
     "metadata": {},
     "output_type": "execute_result"
    }
   ],
   "source": [
    "#Showing y values\n",
    "\n",
    "y=new_data[[:y]]"
   ]
  },
  {
   "cell_type": "code",
   "execution_count": 32,
   "metadata": {},
   "outputs": [
    {
     "name": "stderr",
     "output_type": "stream",
     "text": [
      "┌ Warning: `getindex(df::DataFrame, col_inds::Union{AbstractVector, Regex, Not})` is deprecated, use `df[:, col_inds]` instead.\n",
      "│   caller = top-level scope at In[32]:1\n",
      "└ @ Core In[32]:1\n"
     ]
    },
    {
     "data": {
      "text/plain": [
       "41188×10 Array{Float64,2}:\n",
       " 56.0   3.0  1.0  0.0  0.0  0.0  261.0  0.0  1.0   1.1\n",
       " 57.0   7.0  1.0  1.0  0.0  0.0  149.0  0.0  1.0   1.1\n",
       " 37.0   7.0  1.0  0.0  2.0  0.0  226.0  0.0  1.0   1.1\n",
       " 40.0   0.0  1.0  0.0  0.0  0.0  151.0  0.0  1.0   1.1\n",
       " 56.0   7.0  1.0  0.0  0.0  2.0  307.0  0.0  1.0   1.1\n",
       " 45.0   7.0  1.0  1.0  0.0  0.0  198.0  0.0  1.0   1.1\n",
       " 59.0   0.0  1.0  0.0  0.0  0.0  139.0  0.0  1.0   1.1\n",
       " 41.0   1.0  1.0  1.0  0.0  0.0  217.0  0.0  1.0   1.1\n",
       " 24.0   9.0  2.0  0.0  2.0  0.0  380.0  0.0  1.0   1.1\n",
       " 25.0   7.0  2.0  0.0  2.0  0.0   50.0  0.0  1.0   1.1\n",
       " 41.0   1.0  1.0  1.0  0.0  0.0   55.0  0.0  1.0   1.1\n",
       " 25.0   7.0  2.0  0.0  2.0  0.0  222.0  0.0  1.0   1.1\n",
       " 29.0   1.0  2.0  0.0  0.0  2.0  137.0  0.0  1.0   1.1\n",
       "  ⋮                         ⋮                         \n",
       " 38.0   3.0  0.0  0.0  2.0  2.0  360.0  0.0  1.0  -1.1\n",
       " 57.0   5.0  1.0  0.0  2.0  0.0  124.0  0.0  1.0  -1.1\n",
       " 62.0   5.0  1.0  0.0  0.0  0.0  483.0  3.0  2.0  -1.1\n",
       " 64.0   5.0  0.0  0.0  2.0  0.0  151.0  0.0  1.0  -1.1\n",
       " 36.0   0.0  1.0  0.0  0.0  0.0  254.0  0.0  1.0  -1.1\n",
       " 37.0   0.0  1.0  0.0  2.0  0.0  281.0  0.0  1.0  -1.1\n",
       " 29.0  10.0  2.0  0.0  2.0  0.0  112.0  1.0  2.0  -1.1\n",
       " 73.0   5.0  1.0  0.0  2.0  0.0  334.0  0.0  1.0  -1.1\n",
       " 46.0   1.0  1.0  0.0  0.0  0.0  383.0  0.0  1.0  -1.1\n",
       " 56.0   5.0  1.0  0.0  2.0  0.0  189.0  0.0  1.0  -1.1\n",
       " 44.0   9.0  1.0  0.0  0.0  0.0  442.0  0.0  1.0  -1.1\n",
       " 74.0   5.0  1.0  0.0  2.0  0.0  239.0  1.0  0.0  -1.1"
      ]
     },
     "execution_count": 32,
     "metadata": {},
     "output_type": "execute_result"
    }
   ],
   "source": [
    "#Converting X to array\n",
    "\n",
    "\n",
    "X = convert(Array, new_data[[:age, :job, :marital, :default, :housing, :loan, :duration, :previous, :poutcome,  Symbol(\"emp.var.rate\")]]) "
   ]
  },
  {
   "cell_type": "code",
   "execution_count": 33,
   "metadata": {},
   "outputs": [
    {
     "name": "stderr",
     "output_type": "stream",
     "text": [
      "┌ Warning: `getindex(df::DataFrame, col_ind::ColumnIndex)` is deprecated, use `df[!, col_ind]` instead.\n",
      "│   caller = top-level scope at In[33]:1\n",
      "└ @ Core In[33]:1\n"
     ]
    },
    {
     "data": {
      "text/plain": [
       "41188-element Array{Int64,1}:\n",
       " 0\n",
       " 0\n",
       " 0\n",
       " 0\n",
       " 0\n",
       " 0\n",
       " 0\n",
       " 0\n",
       " 0\n",
       " 0\n",
       " 0\n",
       " 0\n",
       " 0\n",
       " ⋮\n",
       " 0\n",
       " 0\n",
       " 1\n",
       " 0\n",
       " 0\n",
       " 1\n",
       " 0\n",
       " 1\n",
       " 0\n",
       " 0\n",
       " 1\n",
       " 0"
      ]
     },
     "execution_count": 33,
     "metadata": {},
     "output_type": "execute_result"
    }
   ],
   "source": [
    "#Converting X to array\n",
    "\n",
    "y = convert(Array, new_data[:y]) "
   ]
  },
  {
   "cell_type": "code",
   "execution_count": 34,
   "metadata": {},
   "outputs": [
    {
     "data": {
      "text/plain": [
       "PyObject LogisticRegression(C=1.0, class_weight=None, dual=False, fit_intercept=True,\n",
       "                   intercept_scaling=1, l1_ratio=None, max_iter=100,\n",
       "                   multi_class='auto', n_jobs=None, penalty='l2',\n",
       "                   random_state=None, solver='lbfgs', tol=0.0001, verbose=0,\n",
       "                   warm_start=False)"
      ]
     },
     "execution_count": 34,
     "metadata": {},
     "output_type": "execute_result"
    }
   ],
   "source": [
    "log_model=LogisticRegression()"
   ]
  },
  {
   "cell_type": "code",
   "execution_count": 35,
   "metadata": {},
   "outputs": [
    {
     "data": {
      "text/plain": [
       "PyObject LogisticRegression(C=1.0, class_weight=None, dual=False, fit_intercept=True,\n",
       "                   intercept_scaling=1, l1_ratio=None, max_iter=100,\n",
       "                   multi_class='auto', n_jobs=None, penalty='l2',\n",
       "                   random_state=None, solver='lbfgs', tol=0.0001, verbose=0,\n",
       "                   warm_start=False)"
      ]
     },
     "execution_count": 35,
     "metadata": {},
     "output_type": "execute_result"
    }
   ],
   "source": [
    "fit!(log_model, X,y)"
   ]
  },
  {
   "cell_type": "code",
   "execution_count": 36,
   "metadata": {},
   "outputs": [
    {
     "data": {
      "text/plain": [
       "41188-element Array{Int64,1}:\n",
       " 0\n",
       " 0\n",
       " 0\n",
       " 0\n",
       " 0\n",
       " 0\n",
       " 0\n",
       " 0\n",
       " 0\n",
       " 0\n",
       " 0\n",
       " 0\n",
       " 0\n",
       " ⋮\n",
       " 0\n",
       " 0\n",
       " 1\n",
       " 0\n",
       " 0\n",
       " 0\n",
       " 0\n",
       " 0\n",
       " 0\n",
       " 0\n",
       " 0\n",
       " 0"
      ]
     },
     "execution_count": 36,
     "metadata": {},
     "output_type": "execute_result"
    }
   ],
   "source": [
    "predictions=predict(log_model, X)"
   ]
  },
  {
   "cell_type": "code",
   "execution_count": 37,
   "metadata": {},
   "outputs": [
    {
     "data": {
      "text/plain": [
       "0.9038312129746529"
      ]
     },
     "execution_count": 37,
     "metadata": {},
     "output_type": "execute_result"
    }
   ],
   "source": [
    "accuracy=accuracy_score(predictions,y)"
   ]
  },
  {
   "cell_type": "code",
   "execution_count": 38,
   "metadata": {},
   "outputs": [
    {
     "data": {
      "text/plain": [
       "PyObject <function precision_score at 0x000000005D3CF1F8>"
      ]
     },
     "execution_count": 38,
     "metadata": {},
     "output_type": "execute_result"
    }
   ],
   "source": [
    "#precision is calculated as the number of true positives divided by the total number of true positives and false positives.\n",
    "\n",
    "#Precision = TruePositives / (TruePositives + FalsePositives).\n",
    "\n",
    "#The result is a value between 0.0 for no precision and 1.0 for full or perfect precision.\n",
    "\n",
    "\n",
    "@sk_import metrics:precision_score"
   ]
  },
  {
   "cell_type": "code",
   "execution_count": 39,
   "metadata": {},
   "outputs": [
    {
     "data": {
      "text/plain": [
       "PyObject <function recall_score at 0x000000005D3CF288>"
      ]
     },
     "execution_count": 39,
     "metadata": {},
     "output_type": "execute_result"
    }
   ],
   "source": [
    "# recall is calculated as the number of true positives divided by the total number of true positives and false negatives.\n",
    "\n",
    "# Recall = TruePositives / (TruePositives + FalseNegatives).\n",
    "\n",
    "#The result is a value between 0.0 for no recall and 1.0 for full or perfect recall.\n",
    "\n",
    "\n",
    "@sk_import metrics:recall_score"
   ]
  },
  {
   "cell_type": "code",
   "execution_count": 40,
   "metadata": {},
   "outputs": [
    {
     "name": "stderr",
     "output_type": "stream",
     "text": [
      "┌ Warning: Module model_selection has been ported to Julia - try `import ScikitLearn: CrossValidation` instead\n",
      "└ @ ScikitLearn.Skcore C:\\Users\\305TECH\\.julia\\packages\\ScikitLearn\\bo2Pt\\src\\Skcore.jl:140\n"
     ]
    },
    {
     "data": {
      "text/plain": [
       "PyObject <function train_test_split at 0x0000000061CDC438>"
      ]
     },
     "execution_count": 40,
     "metadata": {},
     "output_type": "execute_result"
    }
   ],
   "source": [
    "#LOGISTIC REGRESSION\n",
    "\n",
    "@sk_import model_selection: train_test_split"
   ]
  },
  {
   "cell_type": "code",
   "execution_count": 41,
   "metadata": {},
   "outputs": [
    {
     "data": {
      "text/plain": [
       "4-element Array{Array,1}:\n",
       " [43.0 9.0 … 1.0 -0.1; 48.0 4.0 … 1.0 -1.8; … ; 37.0 0.0 … 1.0 1.4; 35.0 1.0 … 0.0 -1.8] \n",
       " [32.0 1.0 … 1.0 -1.8; 33.0 1.0 … 1.0 1.4; … ; 54.0 4.0 … 0.0 -0.1; 31.0 10.0 … 1.0 -1.8]\n",
       " [0, 1, 0, 0, 0, 0, 0, 0, 0, 0  …  0, 0, 0, 0, 0, 0, 0, 0, 0, 0]                         \n",
       " [0, 0, 1, 0, 0, 0, 0, 0, 0, 0  …  1, 0, 1, 0, 0, 0, 1, 0, 0, 0]                         "
      ]
     },
     "execution_count": 41,
     "metadata": {},
     "output_type": "execute_result"
    }
   ],
   "source": [
    "#  75% will go on the train and 25% on test, because the test size is not specified.\n",
    "\n",
    "\n",
    "x_train,x_test,y_train,y_test=train_test_split(X,y, random_state=1)"
   ]
  },
  {
   "cell_type": "code",
   "execution_count": 42,
   "metadata": {},
   "outputs": [
    {
     "data": {
      "text/plain": [
       "PyObject LogisticRegression(C=1.0, class_weight=None, dual=False, fit_intercept=True,\n",
       "                   intercept_scaling=1, l1_ratio=None, max_iter=100,\n",
       "                   multi_class='auto', n_jobs=None, penalty='l2',\n",
       "                   random_state=None, solver='lbfgs', tol=0.0001, verbose=0,\n",
       "                   warm_start=False)"
      ]
     },
     "execution_count": 42,
     "metadata": {},
     "output_type": "execute_result"
    }
   ],
   "source": [
    "log_reg=LogisticRegression()"
   ]
  },
  {
   "cell_type": "code",
   "execution_count": 44,
   "metadata": {},
   "outputs": [
    {
     "data": {
      "text/plain": [
       "PyObject LogisticRegression(C=1.0, class_weight=None, dual=False, fit_intercept=True,\n",
       "                   intercept_scaling=1, l1_ratio=None, max_iter=100,\n",
       "                   multi_class='auto', n_jobs=None, penalty='l2',\n",
       "                   random_state=None, solver='lbfgs', tol=0.0001, verbose=0,\n",
       "                   warm_start=False)"
      ]
     },
     "execution_count": 44,
     "metadata": {},
     "output_type": "execute_result"
    }
   ],
   "source": [
    "fit!(log_reg,x_train,y_train)"
   ]
  },
  {
   "cell_type": "code",
   "execution_count": 45,
   "metadata": {},
   "outputs": [
    {
     "data": {
      "text/plain": [
       "10297-element Array{Int64,1}:\n",
       " 0\n",
       " 0\n",
       " 0\n",
       " 0\n",
       " 0\n",
       " 0\n",
       " 0\n",
       " 0\n",
       " 0\n",
       " 0\n",
       " 0\n",
       " 0\n",
       " 0\n",
       " ⋮\n",
       " 0\n",
       " 0\n",
       " 0\n",
       " 0\n",
       " 1\n",
       " 0\n",
       " 0\n",
       " 0\n",
       " 1\n",
       " 0\n",
       " 0\n",
       " 0"
      ]
     },
     "execution_count": 45,
     "metadata": {},
     "output_type": "execute_result"
    }
   ],
   "source": [
    "predictions_log_reg=predict(log_reg,x_test)"
   ]
  },
  {
   "cell_type": "code",
   "execution_count": 46,
   "metadata": {},
   "outputs": [
    {
     "data": {
      "text/plain": [
       "0.9056035738564631"
      ]
     },
     "execution_count": 46,
     "metadata": {},
     "output_type": "execute_result"
    }
   ],
   "source": [
    "#Predictions on the unseen data\n",
    "\n",
    "accuracy_log_reg=accuracy_score(predictions_log_reg,y_test)"
   ]
  }
 ],
 "metadata": {
  "kernelspec": {
   "display_name": "Julia 1.3.1",
   "language": "julia",
   "name": "julia-1.3"
  },
  "language_info": {
   "file_extension": ".jl",
   "mimetype": "application/julia",
   "name": "julia",
   "version": "1.3.1"
  }
 },
 "nbformat": 4,
 "nbformat_minor": 4
}
